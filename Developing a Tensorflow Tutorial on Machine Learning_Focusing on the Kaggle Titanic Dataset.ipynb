{
 "cells": [
  {
   "cell_type": "markdown",
   "metadata": {},
   "source": [
    "# 0. 캐글(Kaggle)에서 제공하는 데이터 사용"
   ]
  },
  {
   "cell_type": "code",
   "execution_count": 1,
   "metadata": {},
   "outputs": [],
   "source": [
    "from IPython.display import Image\n",
    "from IPython.core.display import HTML"
   ]
  },
  {
   "cell_type": "code",
   "execution_count": 2,
   "metadata": {},
   "outputs": [
    {
     "data": {
      "text/html": [
       "<img src=\"https://t1.daumcdn.net/cfile/tistory/991122395B69BE1319\"/>"
      ],
      "text/plain": [
       "<IPython.core.display.Image object>"
      ]
     },
     "execution_count": 2,
     "metadata": {},
     "output_type": "execute_result"
    }
   ],
   "source": [
    "Image(url=\"https://t1.daumcdn.net/cfile/tistory/991122395B69BE1319\")"
   ]
  },
  {
   "cell_type": "markdown",
   "metadata": {},
   "source": [
    "# 1. 라이브러리 추가 및 데이터 가져오기"
   ]
  },
  {
   "cell_type": "code",
   "execution_count": 3,
   "metadata": {
    "collapsed": true
   },
   "outputs": [],
   "source": [
    "import pandas as pd\n",
    "import numpy as np\n",
    "import warnings\n",
    "warnings.filterwarnings(action='ignore')"
   ]
  },
  {
   "cell_type": "code",
   "execution_count": 4,
   "metadata": {
    "collapsed": true
   },
   "outputs": [],
   "source": [
    "pd_train = pd.read_csv('train.csv')\n",
    "pd_test = pd.read_csv('test.csv')"
   ]
  },
  {
   "cell_type": "markdown",
   "metadata": {},
   "source": [
    "# 2. 데이터 시각화"
   ]
  },
  {
   "cell_type": "code",
   "execution_count": 5,
   "metadata": {
    "collapsed": true
   },
   "outputs": [],
   "source": [
    "import tensorflow as tf\n",
    "import matplotlib.pyplot as plt\n",
    "import seaborn as sns\n",
    "%matplotlib inline"
   ]
  },
  {
   "cell_type": "code",
   "execution_count": 6,
   "metadata": {},
   "outputs": [
    {
     "data": {
      "text/html": [
       "<div>\n",
       "<style scoped>\n",
       "    .dataframe tbody tr th:only-of-type {\n",
       "        vertical-align: middle;\n",
       "    }\n",
       "\n",
       "    .dataframe tbody tr th {\n",
       "        vertical-align: top;\n",
       "    }\n",
       "\n",
       "    .dataframe thead th {\n",
       "        text-align: right;\n",
       "    }\n",
       "</style>\n",
       "<table border=\"1\" class=\"dataframe\">\n",
       "  <thead>\n",
       "    <tr style=\"text-align: right;\">\n",
       "      <th></th>\n",
       "      <th>PassengerId</th>\n",
       "      <th>Survived</th>\n",
       "      <th>Pclass</th>\n",
       "      <th>Name</th>\n",
       "      <th>Sex</th>\n",
       "      <th>Age</th>\n",
       "      <th>SibSp</th>\n",
       "      <th>Parch</th>\n",
       "      <th>Ticket</th>\n",
       "      <th>Fare</th>\n",
       "      <th>Cabin</th>\n",
       "      <th>Embarked</th>\n",
       "    </tr>\n",
       "  </thead>\n",
       "  <tbody>\n",
       "    <tr>\n",
       "      <th>0</th>\n",
       "      <td>1</td>\n",
       "      <td>0</td>\n",
       "      <td>3</td>\n",
       "      <td>Braund, Mr. Owen Harris</td>\n",
       "      <td>male</td>\n",
       "      <td>22.0</td>\n",
       "      <td>1</td>\n",
       "      <td>0</td>\n",
       "      <td>A/5 21171</td>\n",
       "      <td>7.2500</td>\n",
       "      <td>NaN</td>\n",
       "      <td>S</td>\n",
       "    </tr>\n",
       "    <tr>\n",
       "      <th>1</th>\n",
       "      <td>2</td>\n",
       "      <td>1</td>\n",
       "      <td>1</td>\n",
       "      <td>Cumings, Mrs. John Bradley (Florence Briggs Th...</td>\n",
       "      <td>female</td>\n",
       "      <td>38.0</td>\n",
       "      <td>1</td>\n",
       "      <td>0</td>\n",
       "      <td>PC 17599</td>\n",
       "      <td>71.2833</td>\n",
       "      <td>C85</td>\n",
       "      <td>C</td>\n",
       "    </tr>\n",
       "    <tr>\n",
       "      <th>2</th>\n",
       "      <td>3</td>\n",
       "      <td>1</td>\n",
       "      <td>3</td>\n",
       "      <td>Heikkinen, Miss. Laina</td>\n",
       "      <td>female</td>\n",
       "      <td>26.0</td>\n",
       "      <td>0</td>\n",
       "      <td>0</td>\n",
       "      <td>STON/O2. 3101282</td>\n",
       "      <td>7.9250</td>\n",
       "      <td>NaN</td>\n",
       "      <td>S</td>\n",
       "    </tr>\n",
       "    <tr>\n",
       "      <th>3</th>\n",
       "      <td>4</td>\n",
       "      <td>1</td>\n",
       "      <td>1</td>\n",
       "      <td>Futrelle, Mrs. Jacques Heath (Lily May Peel)</td>\n",
       "      <td>female</td>\n",
       "      <td>35.0</td>\n",
       "      <td>1</td>\n",
       "      <td>0</td>\n",
       "      <td>113803</td>\n",
       "      <td>53.1000</td>\n",
       "      <td>C123</td>\n",
       "      <td>S</td>\n",
       "    </tr>\n",
       "    <tr>\n",
       "      <th>4</th>\n",
       "      <td>5</td>\n",
       "      <td>0</td>\n",
       "      <td>3</td>\n",
       "      <td>Allen, Mr. William Henry</td>\n",
       "      <td>male</td>\n",
       "      <td>35.0</td>\n",
       "      <td>0</td>\n",
       "      <td>0</td>\n",
       "      <td>373450</td>\n",
       "      <td>8.0500</td>\n",
       "      <td>NaN</td>\n",
       "      <td>S</td>\n",
       "    </tr>\n",
       "  </tbody>\n",
       "</table>\n",
       "</div>"
      ],
      "text/plain": [
       "   PassengerId  Survived  Pclass  \\\n",
       "0            1         0       3   \n",
       "1            2         1       1   \n",
       "2            3         1       3   \n",
       "3            4         1       1   \n",
       "4            5         0       3   \n",
       "\n",
       "                                                Name     Sex   Age  SibSp  \\\n",
       "0                            Braund, Mr. Owen Harris    male  22.0      1   \n",
       "1  Cumings, Mrs. John Bradley (Florence Briggs Th...  female  38.0      1   \n",
       "2                             Heikkinen, Miss. Laina  female  26.0      0   \n",
       "3       Futrelle, Mrs. Jacques Heath (Lily May Peel)  female  35.0      1   \n",
       "4                           Allen, Mr. William Henry    male  35.0      0   \n",
       "\n",
       "   Parch            Ticket     Fare Cabin Embarked  \n",
       "0      0         A/5 21171   7.2500   NaN        S  \n",
       "1      0          PC 17599  71.2833   C85        C  \n",
       "2      0  STON/O2. 3101282   7.9250   NaN        S  \n",
       "3      0            113803  53.1000  C123        S  \n",
       "4      0            373450   8.0500   NaN        S  "
      ]
     },
     "execution_count": 6,
     "metadata": {},
     "output_type": "execute_result"
    }
   ],
   "source": [
    "pd_train.head()"
   ]
  },
  {
   "cell_type": "markdown",
   "metadata": {},
   "source": [
    "- Survived 0 : 사망\n",
    "- Survived 1 : 생존"
   ]
  },
  {
   "cell_type": "markdown",
   "metadata": {},
   "source": [
    "### 2.1 (Example) Pclass 생존율"
   ]
  },
  {
   "cell_type": "code",
   "execution_count": 7,
   "metadata": {},
   "outputs": [
    {
     "data": {
      "image/png": "[encoded data removed]",
      "text/plain": [
       "<Figure size 720x360 with 2 Axes>"
      ]
     },
     "metadata": {
      "needs_background": "light"
     },
     "output_type": "display_data"
    }
   ],
   "source": [
    "x, y = plt.subplots(1, 2, figsize=(10,5))\n",
    "pd_train[['Pclass', 'Survived']].groupby(['Pclass']).mean().plot.bar(ax=y[0])\n",
    "y[0].set_title('Survived vs Pclass')\n",
    "sns.countplot('Pclass', hue='Survived', data=pd_train, ax=y[1])\n",
    "y[1].set_title('Pclass:Survived vs Dead')\n",
    "plt.show()"
   ]
  },
  {
   "cell_type": "markdown",
   "metadata": {},
   "source": [
    "### 2.2 (Example) Sex 생존율"
   ]
  },
  {
   "cell_type": "code",
   "execution_count": 8,
   "metadata": {},
   "outputs": [
    {
     "data": {
      "image/png": "[encoded data removed]",
      "text/plain": [
       "<Figure size 720x360 with 2 Axes>"
      ]
     },
     "metadata": {
      "needs_background": "light"
     },
     "output_type": "display_data"
    }
   ],
   "source": [
    "x, y = plt.subplots(1, 2, figsize=(10,5))\n",
    "pd_train[['Sex', 'Survived']].groupby(['Sex']).mean().plot.bar(ax=y[0])\n",
    "y[0].set_title('Survived vs Sex')\n",
    "sns.countplot('Sex', hue='Survived', data=pd_train, ax=y[1])\n",
    "y[1].set_title('Sex:Survived vs Dead')\n",
    "plt.show()"
   ]
  },
  {
   "cell_type": "markdown",
   "metadata": {},
   "source": [
    "# 3. 데이터 전처리"
   ]
  },
  {
   "cell_type": "code",
   "execution_count": 9,
   "metadata": {},
   "outputs": [
    {
     "data": {
      "text/plain": [
       "PassengerId      0\n",
       "Survived         0\n",
       "Pclass           0\n",
       "Name             0\n",
       "Sex              0\n",
       "Age            177\n",
       "SibSp            0\n",
       "Parch            0\n",
       "Ticket           0\n",
       "Fare             0\n",
       "Cabin          687\n",
       "Embarked         2\n",
       "dtype: int64"
      ]
     },
     "execution_count": 9,
     "metadata": {},
     "output_type": "execute_result"
    }
   ],
   "source": [
    "pd_train.isnull().sum()"
   ]
  },
  {
   "cell_type": "code",
   "execution_count": 10,
   "metadata": {},
   "outputs": [
    {
     "data": {
      "text/plain": [
       "PassengerId      0\n",
       "Pclass           0\n",
       "Name             0\n",
       "Sex              0\n",
       "Age             86\n",
       "SibSp            0\n",
       "Parch            0\n",
       "Ticket           0\n",
       "Fare             1\n",
       "Cabin          327\n",
       "Embarked         0\n",
       "dtype: int64"
      ]
     },
     "execution_count": 10,
     "metadata": {},
     "output_type": "execute_result"
    }
   ],
   "source": [
    "pd_test.isnull().sum()"
   ]
  },
  {
   "cell_type": "markdown",
   "metadata": {},
   "source": [
    "### 3.1 Name"
   ]
  },
  {
   "cell_type": "code",
   "execution_count": 11,
   "metadata": {
    "collapsed": true
   },
   "outputs": [],
   "source": [
    "def name_change(df):\n",
    "    df['NameA'] = df['Name'].str.extract('([A-Za-z]+)\\.', expand=False)\n",
    "    return df\n",
    "\n",
    "pd_train = name_change(pd_train)\n",
    "pd_test = name_change(pd_test)"
   ]
  },
  {
   "cell_type": "code",
   "execution_count": 12,
   "metadata": {
    "collapsed": true
   },
   "outputs": [],
   "source": [
    "from sklearn import preprocessing"
   ]
  },
  {
   "cell_type": "code",
   "execution_count": 13,
   "metadata": {
    "collapsed": true
   },
   "outputs": [],
   "source": [
    "def name_change(df):\n",
    "    LE = preprocessing.LabelEncoder()\n",
    "    df['NameA'] = LE.fit_transform(df['NameA']) \n",
    "    return df\n",
    "\n",
    "pd_train = name_change(pd_train)\n",
    "pd_test = name_change(pd_test)\n",
    "\n",
    "pd_train.drop('Name', axis=1, inplace=True)\n",
    "pd_test.drop('Name', axis=1, inplace=True)"
   ]
  },
  {
   "cell_type": "markdown",
   "metadata": {},
   "source": [
    "### 3.2 Sex"
   ]
  },
  {
   "cell_type": "code",
   "execution_count": 14,
   "metadata": {
    "collapsed": true
   },
   "outputs": [],
   "source": [
    "def sex_change(df):\n",
    "    LE = preprocessing.LabelEncoder()\n",
    "    df['Sex'] = LE.fit_transform(df['Sex']) \n",
    "    return df\n",
    "\n",
    "pd_train = sex_change(pd_train)\n",
    "pd_test = sex_change(pd_test)"
   ]
  },
  {
   "cell_type": "markdown",
   "metadata": {},
   "source": [
    "### 3.3 Embarked"
   ]
  },
  {
   "cell_type": "code",
   "execution_count": 15,
   "metadata": {},
   "outputs": [
    {
     "data": {
      "text/plain": [
       "S    644\n",
       "C    168\n",
       "Q     77\n",
       "Name: Embarked, dtype: int64"
      ]
     },
     "execution_count": 15,
     "metadata": {},
     "output_type": "execute_result"
    }
   ],
   "source": [
    "pd_train.Embarked.value_counts()"
   ]
  },
  {
   "cell_type": "code",
   "execution_count": 16,
   "metadata": {
    "collapsed": true
   },
   "outputs": [],
   "source": [
    "pd_train.Embarked = pd_train.Embarked.fillna('S')"
   ]
  },
  {
   "cell_type": "code",
   "execution_count": 17,
   "metadata": {
    "collapsed": true
   },
   "outputs": [],
   "source": [
    "def embarked_change(df):\n",
    "    LE = preprocessing.LabelEncoder()\n",
    "    df['Embarked'] = LE.fit_transform(df['Embarked']) \n",
    "    return df\n",
    "\n",
    "pd_train = embarked_change(pd_train)\n",
    "pd_test = embarked_change(pd_test)"
   ]
  },
  {
   "cell_type": "markdown",
   "metadata": {},
   "source": [
    "### 3.4 Age"
   ]
  },
  {
   "cell_type": "code",
   "execution_count": 18,
   "metadata": {
    "collapsed": true
   },
   "outputs": [],
   "source": [
    "def process_age(df):\n",
    "    df[\"Age\"] = df[\"Age\"].fillna(pd_train.Pclass.mean())\n",
    "    return df\n",
    "\n",
    "pd_train = process_age(pd_train)\n",
    "pd_test = process_age(pd_test)"
   ]
  },
  {
   "cell_type": "code",
   "execution_count": 19,
   "metadata": {},
   "outputs": [
    {
     "name": "stdout",
     "output_type": "stream",
     "text": [
      "            AgeA  Survived\n",
      "0  (-0.08, 16.0]  0.386282\n",
      "1   (16.0, 32.0]  0.370690\n",
      "2   (32.0, 48.0]  0.403226\n",
      "3   (48.0, 64.0]  0.434783\n",
      "4   (64.0, 80.0]  0.090909\n"
     ]
    }
   ],
   "source": [
    "age_group = [pd_train, pd_test]\n",
    "for dataset in age_group:\n",
    "    dataset['Age'] = dataset['Age'].astype(int)\n",
    "    pd_train['AgeA'] = pd.cut(pd_train['Age'], 5)\n",
    "print(pd_train[['AgeA', 'Survived']].groupby(['AgeA'], as_index=False).mean())"
   ]
  },
  {
   "cell_type": "code",
   "execution_count": 20,
   "metadata": {},
   "outputs": [],
   "source": [
    "for dataset in age_group:\n",
    "    dataset.loc[ dataset['Age'] <= 16, 'Age'] = 0\n",
    "    dataset.loc[(dataset['Age'] > 16) & (dataset['Age'] <= 32), 'Age'] = 1\n",
    "    dataset.loc[(dataset['Age'] > 32) & (dataset['Age'] <= 48), 'Age'] = 2\n",
    "    dataset.loc[(dataset['Age'] > 48) & (dataset['Age'] <= 64), 'Age'] = 3\n",
    "    dataset.loc[ dataset['Age'] > 64, 'Age'] = 4\n",
    "    dataset['AgeA'] = dataset['Age'].map( { 0: 'Minor',  1: 'Young Man', 2: 'Middle', 3: 'Old', 4: 'Longevity Old Man'} ).astype(str)"
   ]
  },
  {
   "cell_type": "code",
   "execution_count": 21,
   "metadata": {
    "collapsed": true
   },
   "outputs": [],
   "source": [
    "def age_change(df):\n",
    "    LE = preprocessing.LabelEncoder()\n",
    "    df[\"AgeA\"] = LE.fit_transform(df[\"AgeA\"]) \n",
    "    return df\n",
    "\n",
    "pd_train = age_change(pd_train)\n",
    "pd_test = age_change(pd_test)\n",
    "\n",
    "pd_train.drop('Age', axis=1, inplace=True)\n",
    "pd_test.drop('Age', axis=1, inplace=True)"
   ]
  },
  {
   "cell_type": "code",
   "execution_count": 22,
   "metadata": {},
   "outputs": [
    {
     "data": {
      "text/html": [
       "<div>\n",
       "<style scoped>\n",
       "    .dataframe tbody tr th:only-of-type {\n",
       "        vertical-align: middle;\n",
       "    }\n",
       "\n",
       "    .dataframe tbody tr th {\n",
       "        vertical-align: top;\n",
       "    }\n",
       "\n",
       "    .dataframe thead th {\n",
       "        text-align: right;\n",
       "    }\n",
       "</style>\n",
       "<table border=\"1\" class=\"dataframe\">\n",
       "  <thead>\n",
       "    <tr style=\"text-align: right;\">\n",
       "      <th></th>\n",
       "      <th>PassengerId</th>\n",
       "      <th>Survived</th>\n",
       "      <th>Pclass</th>\n",
       "      <th>Sex</th>\n",
       "      <th>SibSp</th>\n",
       "      <th>Parch</th>\n",
       "      <th>Ticket</th>\n",
       "      <th>Fare</th>\n",
       "      <th>Cabin</th>\n",
       "      <th>Embarked</th>\n",
       "      <th>NameA</th>\n",
       "      <th>AgeA</th>\n",
       "    </tr>\n",
       "  </thead>\n",
       "  <tbody>\n",
       "    <tr>\n",
       "      <th>0</th>\n",
       "      <td>1</td>\n",
       "      <td>0</td>\n",
       "      <td>3</td>\n",
       "      <td>1</td>\n",
       "      <td>1</td>\n",
       "      <td>0</td>\n",
       "      <td>A/5 21171</td>\n",
       "      <td>7.2500</td>\n",
       "      <td>NaN</td>\n",
       "      <td>2</td>\n",
       "      <td>12</td>\n",
       "      <td>4</td>\n",
       "    </tr>\n",
       "    <tr>\n",
       "      <th>1</th>\n",
       "      <td>2</td>\n",
       "      <td>1</td>\n",
       "      <td>1</td>\n",
       "      <td>0</td>\n",
       "      <td>1</td>\n",
       "      <td>0</td>\n",
       "      <td>PC 17599</td>\n",
       "      <td>71.2833</td>\n",
       "      <td>C85</td>\n",
       "      <td>0</td>\n",
       "      <td>13</td>\n",
       "      <td>1</td>\n",
       "    </tr>\n",
       "    <tr>\n",
       "      <th>2</th>\n",
       "      <td>3</td>\n",
       "      <td>1</td>\n",
       "      <td>3</td>\n",
       "      <td>0</td>\n",
       "      <td>0</td>\n",
       "      <td>0</td>\n",
       "      <td>STON/O2. 3101282</td>\n",
       "      <td>7.9250</td>\n",
       "      <td>NaN</td>\n",
       "      <td>2</td>\n",
       "      <td>9</td>\n",
       "      <td>4</td>\n",
       "    </tr>\n",
       "    <tr>\n",
       "      <th>3</th>\n",
       "      <td>4</td>\n",
       "      <td>1</td>\n",
       "      <td>1</td>\n",
       "      <td>0</td>\n",
       "      <td>1</td>\n",
       "      <td>0</td>\n",
       "      <td>113803</td>\n",
       "      <td>53.1000</td>\n",
       "      <td>C123</td>\n",
       "      <td>2</td>\n",
       "      <td>13</td>\n",
       "      <td>1</td>\n",
       "    </tr>\n",
       "    <tr>\n",
       "      <th>4</th>\n",
       "      <td>5</td>\n",
       "      <td>0</td>\n",
       "      <td>3</td>\n",
       "      <td>1</td>\n",
       "      <td>0</td>\n",
       "      <td>0</td>\n",
       "      <td>373450</td>\n",
       "      <td>8.0500</td>\n",
       "      <td>NaN</td>\n",
       "      <td>2</td>\n",
       "      <td>12</td>\n",
       "      <td>1</td>\n",
       "    </tr>\n",
       "  </tbody>\n",
       "</table>\n",
       "</div>"
      ],
      "text/plain": [
       "   PassengerId  Survived  Pclass  Sex  SibSp  Parch            Ticket  \\\n",
       "0            1         0       3    1      1      0         A/5 21171   \n",
       "1            2         1       1    0      1      0          PC 17599   \n",
       "2            3         1       3    0      0      0  STON/O2. 3101282   \n",
       "3            4         1       1    0      1      0            113803   \n",
       "4            5         0       3    1      0      0            373450   \n",
       "\n",
       "      Fare Cabin  Embarked  NameA  AgeA  \n",
       "0   7.2500   NaN         2     12     4  \n",
       "1  71.2833   C85         0     13     1  \n",
       "2   7.9250   NaN         2      9     4  \n",
       "3  53.1000  C123         2     13     1  \n",
       "4   8.0500   NaN         2     12     1  "
      ]
     },
     "execution_count": 22,
     "metadata": {},
     "output_type": "execute_result"
    }
   ],
   "source": [
    "pd_train.head()"
   ]
  },
  {
   "cell_type": "markdown",
   "metadata": {},
   "source": [
    "### 3.5 Cabin"
   ]
  },
  {
   "cell_type": "code",
   "execution_count": 23,
   "metadata": {
    "collapsed": true
   },
   "outputs": [],
   "source": [
    "def cabin_change(df):\n",
    "    df[\"CabinA\"] = df[\"Cabin\"].str.extract('([A-Z]+)', expand=False)\n",
    "    return df\n",
    "\n",
    "pd_train = cabin_change(pd_train)\n",
    "pd_test = cabin_change(pd_test)"
   ]
  },
  {
   "cell_type": "code",
   "execution_count": 24,
   "metadata": {},
   "outputs": [
    {
     "data": {
      "text/plain": [
       "C    59\n",
       "B    47\n",
       "D    33\n",
       "E    32\n",
       "A    15\n",
       "F    13\n",
       "G     4\n",
       "T     1\n",
       "Name: CabinA, dtype: int64"
      ]
     },
     "execution_count": 24,
     "metadata": {},
     "output_type": "execute_result"
    }
   ],
   "source": [
    "pd_train.CabinA.value_counts()"
   ]
  },
  {
   "cell_type": "code",
   "execution_count": 25,
   "metadata": {
    "collapsed": true
   },
   "outputs": [],
   "source": [
    "pd_train.CabinA = pd_train.Cabin.fillna(\"C\")"
   ]
  },
  {
   "cell_type": "code",
   "execution_count": 26,
   "metadata": {},
   "outputs": [
    {
     "data": {
      "text/plain": [
       "C    35\n",
       "B    18\n",
       "D    13\n",
       "E     9\n",
       "F     8\n",
       "A     7\n",
       "G     1\n",
       "Name: CabinA, dtype: int64"
      ]
     },
     "execution_count": 26,
     "metadata": {},
     "output_type": "execute_result"
    }
   ],
   "source": [
    "pd_test.CabinA.value_counts()"
   ]
  },
  {
   "cell_type": "code",
   "execution_count": 27,
   "metadata": {
    "collapsed": true
   },
   "outputs": [],
   "source": [
    "pd_test.CabinA = pd_test.Cabin.fillna(\"C\")"
   ]
  },
  {
   "cell_type": "code",
   "execution_count": 28,
   "metadata": {
    "collapsed": true
   },
   "outputs": [],
   "source": [
    "def cabin_change(df):\n",
    "    LE = preprocessing.LabelEncoder()\n",
    "    df[\"CabinA\"] = LE.fit_transform(df[\"CabinA\"]) \n",
    "    return df\n",
    "\n",
    "pd_train = cabin_change(pd_train)\n",
    "pd_test = cabin_change(pd_test)\n",
    "\n",
    "pd_train.drop('Cabin', axis=1, inplace=True)\n",
    "pd_test.drop('Cabin', axis=1, inplace=True)"
   ]
  },
  {
   "cell_type": "markdown",
   "metadata": {},
   "source": [
    "### 3.6 Fare"
   ]
  },
  {
   "cell_type": "code",
   "execution_count": 29,
   "metadata": {},
   "outputs": [],
   "source": [
    "pd_test[\"Fare\"].fillna(pd_test.groupby(\"Pclass\")[\"Fare\"].transform(\"median\"), inplace=True)"
   ]
  },
  {
   "cell_type": "code",
   "execution_count": 30,
   "metadata": {},
   "outputs": [
    {
     "name": "stdout",
     "output_type": "stream",
     "text": [
      "               FareA  Survived\n",
      "0    (-0.001, 7.854]  0.217877\n",
      "1      (7.854, 10.5]  0.201087\n",
      "2     (10.5, 21.679]  0.424419\n",
      "3   (21.679, 39.688]  0.444444\n",
      "4  (39.688, 512.329]  0.642045\n"
     ]
    }
   ],
   "source": [
    "pd_train['FareA'] = pd.qcut(pd_train['Fare'], 5)\n",
    "print(pd_train[['FareA', 'Survived']].groupby(['FareA'], as_index=False).mean())"
   ]
  },
  {
   "cell_type": "code",
   "execution_count": 31,
   "metadata": {},
   "outputs": [],
   "source": [
    "fare_group = [pd_train, pd_test]\n",
    "for dataset in fare_group:\n",
    "    dataset.loc[ dataset['Fare'] <= 7.854, 'Fare'] = 0\n",
    "    dataset.loc[(dataset['Fare'] > 7.854) & (dataset['Fare'] <= 10.5), 'Fare'] = 1\n",
    "    dataset.loc[(dataset['Fare'] > 10.5) & (dataset['Fare'] <= 21.679), 'Fare'] = 2\n",
    "    dataset.loc[(dataset['Fare'] > 21.679) & (dataset['Fare'] <= 39.688), 'Fare'] = 3\n",
    "    dataset.loc[ dataset['Fare'] > 39.688, 'Fare'] = 4\n",
    "    dataset['FareA'] = dataset['Fare'].astype(int)\n",
    "    \n",
    "pd_train.drop('Fare', axis=1, inplace=True)\n",
    "pd_test.drop('Fare', axis=1, inplace=True)"
   ]
  },
  {
   "cell_type": "markdown",
   "metadata": {},
   "source": [
    "### 3.7 데이터 전처리 확인"
   ]
  },
  {
   "cell_type": "code",
   "execution_count": 32,
   "metadata": {},
   "outputs": [
    {
     "data": {
      "text/plain": [
       "PassengerId    0\n",
       "Survived       0\n",
       "Pclass         0\n",
       "Sex            0\n",
       "SibSp          0\n",
       "Parch          0\n",
       "Ticket         0\n",
       "Embarked       0\n",
       "NameA          0\n",
       "AgeA           0\n",
       "CabinA         0\n",
       "FareA          0\n",
       "dtype: int64"
      ]
     },
     "execution_count": 32,
     "metadata": {},
     "output_type": "execute_result"
    }
   ],
   "source": [
    "pd_train.isnull().sum()"
   ]
  },
  {
   "cell_type": "code",
   "execution_count": 33,
   "metadata": {},
   "outputs": [
    {
     "data": {
      "text/plain": [
       "PassengerId    0\n",
       "Pclass         0\n",
       "Sex            0\n",
       "SibSp          0\n",
       "Parch          0\n",
       "Ticket         0\n",
       "Embarked       0\n",
       "NameA          0\n",
       "AgeA           0\n",
       "CabinA         0\n",
       "FareA          0\n",
       "dtype: int64"
      ]
     },
     "execution_count": 33,
     "metadata": {},
     "output_type": "execute_result"
    }
   ],
   "source": [
    "pd_test.isnull().sum()"
   ]
  },
  {
   "cell_type": "code",
   "execution_count": 34,
   "metadata": {},
   "outputs": [
    {
     "data": {
      "text/html": [
       "<div>\n",
       "<style scoped>\n",
       "    .dataframe tbody tr th:only-of-type {\n",
       "        vertical-align: middle;\n",
       "    }\n",
       "\n",
       "    .dataframe tbody tr th {\n",
       "        vertical-align: top;\n",
       "    }\n",
       "\n",
       "    .dataframe thead th {\n",
       "        text-align: right;\n",
       "    }\n",
       "</style>\n",
       "<table border=\"1\" class=\"dataframe\">\n",
       "  <thead>\n",
       "    <tr style=\"text-align: right;\">\n",
       "      <th></th>\n",
       "      <th>PassengerId</th>\n",
       "      <th>Survived</th>\n",
       "      <th>Pclass</th>\n",
       "      <th>Sex</th>\n",
       "      <th>SibSp</th>\n",
       "      <th>Parch</th>\n",
       "      <th>Ticket</th>\n",
       "      <th>Embarked</th>\n",
       "      <th>NameA</th>\n",
       "      <th>AgeA</th>\n",
       "      <th>CabinA</th>\n",
       "      <th>FareA</th>\n",
       "    </tr>\n",
       "  </thead>\n",
       "  <tbody>\n",
       "    <tr>\n",
       "      <th>0</th>\n",
       "      <td>1</td>\n",
       "      <td>0</td>\n",
       "      <td>3</td>\n",
       "      <td>1</td>\n",
       "      <td>1</td>\n",
       "      <td>0</td>\n",
       "      <td>A/5 21171</td>\n",
       "      <td>2</td>\n",
       "      <td>12</td>\n",
       "      <td>4</td>\n",
       "      <td>48</td>\n",
       "      <td>0</td>\n",
       "    </tr>\n",
       "    <tr>\n",
       "      <th>1</th>\n",
       "      <td>2</td>\n",
       "      <td>1</td>\n",
       "      <td>1</td>\n",
       "      <td>0</td>\n",
       "      <td>1</td>\n",
       "      <td>0</td>\n",
       "      <td>PC 17599</td>\n",
       "      <td>0</td>\n",
       "      <td>13</td>\n",
       "      <td>1</td>\n",
       "      <td>82</td>\n",
       "      <td>4</td>\n",
       "    </tr>\n",
       "    <tr>\n",
       "      <th>2</th>\n",
       "      <td>3</td>\n",
       "      <td>1</td>\n",
       "      <td>3</td>\n",
       "      <td>0</td>\n",
       "      <td>0</td>\n",
       "      <td>0</td>\n",
       "      <td>STON/O2. 3101282</td>\n",
       "      <td>2</td>\n",
       "      <td>9</td>\n",
       "      <td>4</td>\n",
       "      <td>48</td>\n",
       "      <td>1</td>\n",
       "    </tr>\n",
       "    <tr>\n",
       "      <th>3</th>\n",
       "      <td>4</td>\n",
       "      <td>1</td>\n",
       "      <td>1</td>\n",
       "      <td>0</td>\n",
       "      <td>1</td>\n",
       "      <td>0</td>\n",
       "      <td>113803</td>\n",
       "      <td>2</td>\n",
       "      <td>13</td>\n",
       "      <td>1</td>\n",
       "      <td>56</td>\n",
       "      <td>4</td>\n",
       "    </tr>\n",
       "    <tr>\n",
       "      <th>4</th>\n",
       "      <td>5</td>\n",
       "      <td>0</td>\n",
       "      <td>3</td>\n",
       "      <td>1</td>\n",
       "      <td>0</td>\n",
       "      <td>0</td>\n",
       "      <td>373450</td>\n",
       "      <td>2</td>\n",
       "      <td>12</td>\n",
       "      <td>1</td>\n",
       "      <td>48</td>\n",
       "      <td>1</td>\n",
       "    </tr>\n",
       "  </tbody>\n",
       "</table>\n",
       "</div>"
      ],
      "text/plain": [
       "   PassengerId  Survived  Pclass  Sex  SibSp  Parch            Ticket  \\\n",
       "0            1         0       3    1      1      0         A/5 21171   \n",
       "1            2         1       1    0      1      0          PC 17599   \n",
       "2            3         1       3    0      0      0  STON/O2. 3101282   \n",
       "3            4         1       1    0      1      0            113803   \n",
       "4            5         0       3    1      0      0            373450   \n",
       "\n",
       "   Embarked  NameA  AgeA  CabinA  FareA  \n",
       "0         2     12     4      48      0  \n",
       "1         0     13     1      82      4  \n",
       "2         2      9     4      48      1  \n",
       "3         2     13     1      56      4  \n",
       "4         2     12     1      48      1  "
      ]
     },
     "execution_count": 34,
     "metadata": {},
     "output_type": "execute_result"
    }
   ],
   "source": [
    "pd_train.head()"
   ]
  },
  {
   "cell_type": "code",
   "execution_count": 35,
   "metadata": {},
   "outputs": [
    {
     "data": {
      "text/html": [
       "<div>\n",
       "<style scoped>\n",
       "    .dataframe tbody tr th:only-of-type {\n",
       "        vertical-align: middle;\n",
       "    }\n",
       "\n",
       "    .dataframe tbody tr th {\n",
       "        vertical-align: top;\n",
       "    }\n",
       "\n",
       "    .dataframe thead th {\n",
       "        text-align: right;\n",
       "    }\n",
       "</style>\n",
       "<table border=\"1\" class=\"dataframe\">\n",
       "  <thead>\n",
       "    <tr style=\"text-align: right;\">\n",
       "      <th></th>\n",
       "      <th>PassengerId</th>\n",
       "      <th>Pclass</th>\n",
       "      <th>Sex</th>\n",
       "      <th>SibSp</th>\n",
       "      <th>Parch</th>\n",
       "      <th>Ticket</th>\n",
       "      <th>Embarked</th>\n",
       "      <th>NameA</th>\n",
       "      <th>AgeA</th>\n",
       "      <th>CabinA</th>\n",
       "      <th>FareA</th>\n",
       "    </tr>\n",
       "  </thead>\n",
       "  <tbody>\n",
       "    <tr>\n",
       "      <th>0</th>\n",
       "      <td>892</td>\n",
       "      <td>3</td>\n",
       "      <td>1</td>\n",
       "      <td>0</td>\n",
       "      <td>0</td>\n",
       "      <td>330911</td>\n",
       "      <td>1</td>\n",
       "      <td>5</td>\n",
       "      <td>1</td>\n",
       "      <td>21</td>\n",
       "      <td>0</td>\n",
       "    </tr>\n",
       "    <tr>\n",
       "      <th>1</th>\n",
       "      <td>893</td>\n",
       "      <td>3</td>\n",
       "      <td>0</td>\n",
       "      <td>1</td>\n",
       "      <td>0</td>\n",
       "      <td>363272</td>\n",
       "      <td>2</td>\n",
       "      <td>6</td>\n",
       "      <td>1</td>\n",
       "      <td>21</td>\n",
       "      <td>0</td>\n",
       "    </tr>\n",
       "    <tr>\n",
       "      <th>2</th>\n",
       "      <td>894</td>\n",
       "      <td>2</td>\n",
       "      <td>1</td>\n",
       "      <td>0</td>\n",
       "      <td>0</td>\n",
       "      <td>240276</td>\n",
       "      <td>1</td>\n",
       "      <td>5</td>\n",
       "      <td>3</td>\n",
       "      <td>21</td>\n",
       "      <td>1</td>\n",
       "    </tr>\n",
       "    <tr>\n",
       "      <th>3</th>\n",
       "      <td>895</td>\n",
       "      <td>3</td>\n",
       "      <td>1</td>\n",
       "      <td>0</td>\n",
       "      <td>0</td>\n",
       "      <td>315154</td>\n",
       "      <td>2</td>\n",
       "      <td>5</td>\n",
       "      <td>4</td>\n",
       "      <td>21</td>\n",
       "      <td>1</td>\n",
       "    </tr>\n",
       "    <tr>\n",
       "      <th>4</th>\n",
       "      <td>896</td>\n",
       "      <td>3</td>\n",
       "      <td>0</td>\n",
       "      <td>1</td>\n",
       "      <td>1</td>\n",
       "      <td>3101298</td>\n",
       "      <td>2</td>\n",
       "      <td>6</td>\n",
       "      <td>4</td>\n",
       "      <td>21</td>\n",
       "      <td>2</td>\n",
       "    </tr>\n",
       "  </tbody>\n",
       "</table>\n",
       "</div>"
      ],
      "text/plain": [
       "   PassengerId  Pclass  Sex  SibSp  Parch   Ticket  Embarked  NameA  AgeA  \\\n",
       "0          892       3    1      0      0   330911         1      5     1   \n",
       "1          893       3    0      1      0   363272         2      6     1   \n",
       "2          894       2    1      0      0   240276         1      5     3   \n",
       "3          895       3    1      0      0   315154         2      5     4   \n",
       "4          896       3    0      1      1  3101298         2      6     4   \n",
       "\n",
       "   CabinA  FareA  \n",
       "0      21      0  \n",
       "1      21      0  \n",
       "2      21      1  \n",
       "3      21      1  \n",
       "4      21      2  "
      ]
     },
     "execution_count": 35,
     "metadata": {},
     "output_type": "execute_result"
    }
   ],
   "source": [
    "pd_test.head()"
   ]
  },
  {
   "cell_type": "code",
   "execution_count": 36,
   "metadata": {},
   "outputs": [],
   "source": [
    "pd_train.drop('Ticket', axis=1, inplace=True)\n",
    "pd_test.drop('Ticket', axis=1, inplace=True)"
   ]
  },
  {
   "cell_type": "markdown",
   "metadata": {},
   "source": [
    "# 4. 데이터 정규화"
   ]
  },
  {
   "cell_type": "code",
   "execution_count": 37,
   "metadata": {},
   "outputs": [
    {
     "data": {
      "text/plain": [
       "Index(['PassengerId', 'Survived', 'Pclass', 'Sex', 'SibSp', 'Parch',\n",
       "       'Embarked', 'NameA', 'AgeA', 'CabinA', 'FareA'],\n",
       "      dtype='object')"
      ]
     },
     "execution_count": 37,
     "metadata": {},
     "output_type": "execute_result"
    }
   ],
   "source": [
    "pd_train.columns"
   ]
  },
  {
   "cell_type": "code",
   "execution_count": 38,
   "metadata": {},
   "outputs": [],
   "source": [
    "def feature_scale(df):\n",
    "    SS = preprocessing.StandardScaler().fit(df[['Pclass',\n",
    "                                                'Sex',\n",
    "                                                'SibSp',\n",
    "                                                'Parch',\n",
    "                                                'Embarked', \n",
    "                                                'NameA', \n",
    "                                                'AgeA', \n",
    "                                                'CabinA', \n",
    "                                                'FareA']])\n",
    "    df[['Pclass', \n",
    "        'Sex',\n",
    "        'SibSp',\n",
    "        'Parch',\n",
    "        'Embarked',\n",
    "        'NameA',\n",
    "        'AgeA', \n",
    "        'CabinA',\n",
    "        'FareA']] = SS.transform(df[['Pclass',\n",
    "                                     'Sex',\n",
    "                                     'SibSp',\n",
    "                                     'Parch',\n",
    "                                     'Embarked',\n",
    "                                     'NameA',\n",
    "                                     'AgeA',\n",
    "                                     'CabinA',\n",
    "                                     'FareA']])\n",
    "    return df\n",
    "\n",
    "pd_train = feature_scale(pd_train)\n",
    "pd_test = feature_scale(pd_test)"
   ]
  },
  {
   "cell_type": "markdown",
   "metadata": {},
   "source": [
    "# 5. 데이터 전처리 전후 비교 → 상관분석"
   ]
  },
  {
   "cell_type": "code",
   "execution_count": 39,
   "metadata": {},
   "outputs": [
    {
     "data": {
      "text/html": [
       "<div>\n",
       "<style scoped>\n",
       "    .dataframe tbody tr th:only-of-type {\n",
       "        vertical-align: middle;\n",
       "    }\n",
       "\n",
       "    .dataframe tbody tr th {\n",
       "        vertical-align: top;\n",
       "    }\n",
       "\n",
       "    .dataframe thead th {\n",
       "        text-align: right;\n",
       "    }\n",
       "</style>\n",
       "<table border=\"1\" class=\"dataframe\">\n",
       "  <thead>\n",
       "    <tr style=\"text-align: right;\">\n",
       "      <th></th>\n",
       "      <th>PassengerId</th>\n",
       "      <th>Survived</th>\n",
       "      <th>Pclass</th>\n",
       "      <th>Sex</th>\n",
       "      <th>SibSp</th>\n",
       "      <th>Parch</th>\n",
       "      <th>Embarked</th>\n",
       "      <th>NameA</th>\n",
       "      <th>AgeA</th>\n",
       "      <th>CabinA</th>\n",
       "      <th>FareA</th>\n",
       "    </tr>\n",
       "  </thead>\n",
       "  <tbody>\n",
       "    <tr>\n",
       "      <th>PassengerId</th>\n",
       "      <td>1.000000</td>\n",
       "      <td>-0.005007</td>\n",
       "      <td>-0.035144</td>\n",
       "      <td>0.042939</td>\n",
       "      <td>-0.057527</td>\n",
       "      <td>-0.001652</td>\n",
       "      <td>0.013128</td>\n",
       "      <td>0.021692</td>\n",
       "      <td>-0.002200</td>\n",
       "      <td>-0.018661</td>\n",
       "      <td>-0.006761</td>\n",
       "    </tr>\n",
       "    <tr>\n",
       "      <th>Survived</th>\n",
       "      <td>-0.005007</td>\n",
       "      <td>1.000000</td>\n",
       "      <td>-0.338481</td>\n",
       "      <td>-0.543351</td>\n",
       "      <td>-0.035322</td>\n",
       "      <td>0.081629</td>\n",
       "      <td>-0.167675</td>\n",
       "      <td>-0.201345</td>\n",
       "      <td>-0.005260</td>\n",
       "      <td>0.173286</td>\n",
       "      <td>0.317300</td>\n",
       "    </tr>\n",
       "    <tr>\n",
       "      <th>Pclass</th>\n",
       "      <td>-0.035144</td>\n",
       "      <td>-0.338481</td>\n",
       "      <td>1.000000</td>\n",
       "      <td>0.131900</td>\n",
       "      <td>0.083081</td>\n",
       "      <td>0.018443</td>\n",
       "      <td>0.162098</td>\n",
       "      <td>0.045541</td>\n",
       "      <td>0.095281</td>\n",
       "      <td>-0.242997</td>\n",
       "      <td>-0.703533</td>\n",
       "    </tr>\n",
       "    <tr>\n",
       "      <th>Sex</th>\n",
       "      <td>0.042939</td>\n",
       "      <td>-0.543351</td>\n",
       "      <td>0.131900</td>\n",
       "      <td>1.000000</td>\n",
       "      <td>-0.114631</td>\n",
       "      <td>-0.245489</td>\n",
       "      <td>0.108262</td>\n",
       "      <td>0.256407</td>\n",
       "      <td>-0.005178</td>\n",
       "      <td>-0.101665</td>\n",
       "      <td>-0.246021</td>\n",
       "    </tr>\n",
       "    <tr>\n",
       "      <th>SibSp</th>\n",
       "      <td>-0.057527</td>\n",
       "      <td>-0.035322</td>\n",
       "      <td>0.083081</td>\n",
       "      <td>-0.114631</td>\n",
       "      <td>1.000000</td>\n",
       "      <td>0.414838</td>\n",
       "      <td>0.068230</td>\n",
       "      <td>-0.191786</td>\n",
       "      <td>-0.086531</td>\n",
       "      <td>-0.004940</td>\n",
       "      <td>0.357117</td>\n",
       "    </tr>\n",
       "    <tr>\n",
       "      <th>Parch</th>\n",
       "      <td>-0.001652</td>\n",
       "      <td>0.081629</td>\n",
       "      <td>0.018443</td>\n",
       "      <td>-0.245489</td>\n",
       "      <td>0.414838</td>\n",
       "      <td>1.000000</td>\n",
       "      <td>0.039798</td>\n",
       "      <td>-0.119721</td>\n",
       "      <td>-0.132263</td>\n",
       "      <td>0.022286</td>\n",
       "      <td>0.350789</td>\n",
       "    </tr>\n",
       "    <tr>\n",
       "      <th>Embarked</th>\n",
       "      <td>0.013128</td>\n",
       "      <td>-0.167675</td>\n",
       "      <td>0.162098</td>\n",
       "      <td>0.108262</td>\n",
       "      <td>0.068230</td>\n",
       "      <td>0.039798</td>\n",
       "      <td>1.000000</td>\n",
       "      <td>0.066462</td>\n",
       "      <td>0.037194</td>\n",
       "      <td>0.025475</td>\n",
       "      <td>-0.112649</td>\n",
       "    </tr>\n",
       "    <tr>\n",
       "      <th>NameA</th>\n",
       "      <td>0.021692</td>\n",
       "      <td>-0.201345</td>\n",
       "      <td>0.045541</td>\n",
       "      <td>0.256407</td>\n",
       "      <td>-0.191786</td>\n",
       "      <td>-0.119721</td>\n",
       "      <td>0.066462</td>\n",
       "      <td>1.000000</td>\n",
       "      <td>0.039165</td>\n",
       "      <td>0.014969</td>\n",
       "      <td>-0.101465</td>\n",
       "    </tr>\n",
       "    <tr>\n",
       "      <th>AgeA</th>\n",
       "      <td>-0.002200</td>\n",
       "      <td>-0.005260</td>\n",
       "      <td>0.095281</td>\n",
       "      <td>-0.005178</td>\n",
       "      <td>-0.086531</td>\n",
       "      <td>-0.132263</td>\n",
       "      <td>0.037194</td>\n",
       "      <td>0.039165</td>\n",
       "      <td>1.000000</td>\n",
       "      <td>-0.033784</td>\n",
       "      <td>-0.121149</td>\n",
       "    </tr>\n",
       "    <tr>\n",
       "      <th>CabinA</th>\n",
       "      <td>-0.018661</td>\n",
       "      <td>0.173286</td>\n",
       "      <td>-0.242997</td>\n",
       "      <td>-0.101665</td>\n",
       "      <td>-0.004940</td>\n",
       "      <td>0.022286</td>\n",
       "      <td>0.025475</td>\n",
       "      <td>0.014969</td>\n",
       "      <td>-0.033784</td>\n",
       "      <td>1.000000</td>\n",
       "      <td>0.189851</td>\n",
       "    </tr>\n",
       "    <tr>\n",
       "      <th>FareA</th>\n",
       "      <td>-0.006761</td>\n",
       "      <td>0.317300</td>\n",
       "      <td>-0.703533</td>\n",
       "      <td>-0.246021</td>\n",
       "      <td>0.357117</td>\n",
       "      <td>0.350789</td>\n",
       "      <td>-0.112649</td>\n",
       "      <td>-0.101465</td>\n",
       "      <td>-0.121149</td>\n",
       "      <td>0.189851</td>\n",
       "      <td>1.000000</td>\n",
       "    </tr>\n",
       "  </tbody>\n",
       "</table>\n",
       "</div>"
      ],
      "text/plain": [
       "             PassengerId  Survived    Pclass       Sex     SibSp     Parch  \\\n",
       "PassengerId     1.000000 -0.005007 -0.035144  0.042939 -0.057527 -0.001652   \n",
       "Survived       -0.005007  1.000000 -0.338481 -0.543351 -0.035322  0.081629   \n",
       "Pclass         -0.035144 -0.338481  1.000000  0.131900  0.083081  0.018443   \n",
       "Sex             0.042939 -0.543351  0.131900  1.000000 -0.114631 -0.245489   \n",
       "SibSp          -0.057527 -0.035322  0.083081 -0.114631  1.000000  0.414838   \n",
       "Parch          -0.001652  0.081629  0.018443 -0.245489  0.414838  1.000000   \n",
       "Embarked        0.013128 -0.167675  0.162098  0.108262  0.068230  0.039798   \n",
       "NameA           0.021692 -0.201345  0.045541  0.256407 -0.191786 -0.119721   \n",
       "AgeA           -0.002200 -0.005260  0.095281 -0.005178 -0.086531 -0.132263   \n",
       "CabinA         -0.018661  0.173286 -0.242997 -0.101665 -0.004940  0.022286   \n",
       "FareA          -0.006761  0.317300 -0.703533 -0.246021  0.357117  0.350789   \n",
       "\n",
       "             Embarked     NameA      AgeA    CabinA     FareA  \n",
       "PassengerId  0.013128  0.021692 -0.002200 -0.018661 -0.006761  \n",
       "Survived    -0.167675 -0.201345 -0.005260  0.173286  0.317300  \n",
       "Pclass       0.162098  0.045541  0.095281 -0.242997 -0.703533  \n",
       "Sex          0.108262  0.256407 -0.005178 -0.101665 -0.246021  \n",
       "SibSp        0.068230 -0.191786 -0.086531 -0.004940  0.357117  \n",
       "Parch        0.039798 -0.119721 -0.132263  0.022286  0.350789  \n",
       "Embarked     1.000000  0.066462  0.037194  0.025475 -0.112649  \n",
       "NameA        0.066462  1.000000  0.039165  0.014969 -0.101465  \n",
       "AgeA         0.037194  0.039165  1.000000 -0.033784 -0.121149  \n",
       "CabinA       0.025475  0.014969 -0.033784  1.000000  0.189851  \n",
       "FareA       -0.112649 -0.101465 -0.121149  0.189851  1.000000  "
      ]
     },
     "execution_count": 39,
     "metadata": {},
     "output_type": "execute_result"
    }
   ],
   "source": [
    "pd_train.corr()"
   ]
  },
  {
   "cell_type": "code",
   "execution_count": 40,
   "metadata": {},
   "outputs": [],
   "source": [
    "def plot_correlation_map(df):\n",
    "    corr = pd_train.corr()\n",
    "    _, ax = plt.subplots(figsize=(12, 10))\n",
    "    cmap = sns.diverging_palette(220, 10, as_cmap=True)\n",
    "    _ = sns.heatmap(\n",
    "        corr, \n",
    "        cmap = cmap, \n",
    "        cbar_kws={ 'shrink' : .9 }, \n",
    "        ax = ax, \n",
    "        annot = True, \n",
    "        annot_kws = { 'fontsize' : 12 }\n",
    "        )"
   ]
  },
  {
   "cell_type": "code",
   "execution_count": 41,
   "metadata": {},
   "outputs": [
    {
     "data": {
      "image/png": "[encoded data removed]",
      "text/plain": [
       "<Figure size 864x720 with 2 Axes>"
      ]
     },
     "metadata": {
      "needs_background": "light"
     },
     "output_type": "display_data"
    }
   ],
   "source": [
    "plot_correlation_map(pd_train)"
   ]
  },
  {
   "cell_type": "markdown",
   "metadata": {},
   "source": [
    "# 6. 모델 학습 전 Setting"
   ]
  },
  {
   "cell_type": "code",
   "execution_count": 42,
   "metadata": {
    "collapsed": true
   },
   "outputs": [],
   "source": [
    "feature = pd_train[['Pclass', 'Sex', 'SibSp', 'Parch', 'Embarked', 'NameA', 'AgeA', 'CabinA', 'FareA']]\n",
    "target = pd_train[['Survived']]"
   ]
  },
  {
   "cell_type": "code",
   "execution_count": 43,
   "metadata": {
    "collapsed": true
   },
   "outputs": [],
   "source": [
    "from sklearn.model_selection import train_test_split"
   ]
  },
  {
   "cell_type": "code",
   "execution_count": 44,
   "metadata": {
    "collapsed": true
   },
   "outputs": [
    {
     "name": "stdout",
     "output_type": "stream",
     "text": [
      "(623, 9) (268, 9) (623, 1) (268, 1)\n"
     ]
    }
   ],
   "source": [
    "X_train, X_test, y_train, y_test = train_test_split(feature, target, test_size=0.3, random_state=0)\n",
    "print(X_train.shape, X_test.shape, y_train.shape, y_test.shape)"
   ]
  },
  {
   "cell_type": "markdown",
   "metadata": {},
   "source": [
    "# 7. 파라미터 조정"
   ]
  },
  {
   "cell_type": "code",
   "execution_count": 45,
   "metadata": {},
   "outputs": [],
   "source": [
    "from sklearn.model_selection import GridSearchCV"
   ]
  },
  {
   "cell_type": "markdown",
   "metadata": {},
   "source": [
    "### 7.1 (Example) RandomForest Algorithm"
   ]
  },
  {
   "cell_type": "code",
   "execution_count": 46,
   "metadata": {},
   "outputs": [],
   "source": [
    "randomforest_param_grid = {\n",
    "    'n_estimators': [100, 200, 300],\n",
    "    'max_features': ['sqrt', 'log2'],\n",
    "    'max_depth': [3, 6, 10],\n",
    "    'criterion': ['gini', 'entropy'],\n",
    "    'random_state': [0]\n",
    "}"
   ]
  },
  {
   "cell_type": "code",
   "execution_count": 47,
   "metadata": {
    "collapsed": true
   },
   "outputs": [
    {
     "data": {
      "text/plain": [
       "GridSearchCV(cv=5, error_score='raise-deprecating',\n",
       "       estimator=RandomForestClassifier(bootstrap=True, class_weight=None, criterion='gini',\n",
       "            max_depth=None, max_features='auto', max_leaf_nodes=None,\n",
       "            min_impurity_decrease=0.0, min_impurity_split=None,\n",
       "            min_samples_leaf=1, min_samples_split=2,\n",
       "            min_weight_fraction_leaf=0.0, n_estimators='warn', n_jobs=None,\n",
       "            oob_score=False, random_state=None, verbose=0,\n",
       "            warm_start=False),\n",
       "       fit_params=None, iid='warn', n_jobs=None,\n",
       "       param_grid={'n_estimators': [100, 200, 300], 'max_features': ['sqrt', 'log2'], 'max_depth': [3, 6, 10], 'criterion': ['gini', 'entropy'], 'random_state': [0]},\n",
       "       pre_dispatch='2*n_jobs', refit=True, return_train_score='warn',\n",
       "       scoring=None, verbose=0)"
      ]
     },
     "execution_count": 47,
     "metadata": {},
     "output_type": "execute_result"
    }
   ],
   "source": [
    "from sklearn.ensemble import RandomForestClassifier\n",
    "randomforest = RandomForestClassifier()\n",
    "randomforest = GridSearchCV(estimator=randomforest, param_grid=randomforest_param_grid, cv=5)\n",
    "randomforest.fit(X_train, y_train)"
   ]
  },
  {
   "cell_type": "code",
   "execution_count": 48,
   "metadata": {},
   "outputs": [
    {
     "data": {
      "text/plain": [
       "{'criterion': 'gini',\n",
       " 'max_depth': 6,\n",
       " 'max_features': 'sqrt',\n",
       " 'n_estimators': 200,\n",
       " 'random_state': 0}"
      ]
     },
     "execution_count": 48,
     "metadata": {},
     "output_type": "execute_result"
    }
   ],
   "source": [
    "randomforest.best_params_"
   ]
  },
  {
   "cell_type": "markdown",
   "metadata": {},
   "source": [
    "### 7.2 (Example) XGBoost Algorithm"
   ]
  },
  {
   "cell_type": "code",
   "execution_count": 49,
   "metadata": {},
   "outputs": [],
   "source": [
    "xgboost_param_grid = {\n",
    "    'n_estimators': [100, 200, 300],\n",
    "    'max_depth': [3, 6, 10],\n",
    "    'subsample': [0.2, 0.4, 0.6, 0.8, 1.0],\n",
    "    'colsample_bytree': [0.5, 0.6, 0.7],\n",
    "    'reg_alpha': [0.01, 0.02, 0.03]\n",
    "}"
   ]
  },
  {
   "cell_type": "code",
   "execution_count": 50,
   "metadata": {},
   "outputs": [],
   "source": [
    "from xgboost import XGBClassifier"
   ]
  },
  {
   "cell_type": "code",
   "execution_count": 51,
   "metadata": {},
   "outputs": [
    {
     "data": {
      "text/plain": [
       "GridSearchCV(cv=5, error_score='raise-deprecating',\n",
       "       estimator=XGBClassifier(base_score=0.5, booster='gbtree', colsample_bylevel=1,\n",
       "       colsample_bytree=1, gamma=0, learning_rate=0.1, max_delta_step=0,\n",
       "       max_depth=3, min_child_weight=1, missing=None, n_estimators=100,\n",
       "       n_jobs=1, nthread=None, objective='binary:logistic', random_state=0,\n",
       "       reg_alpha=0, reg_lambda=1, scale_pos_weight=1, seed=None,\n",
       "       silent=True, subsample=1),\n",
       "       fit_params=None, iid='warn', n_jobs=None,\n",
       "       param_grid={'n_estimators': [100, 200, 300], 'max_depth': [3, 6, 10], 'subsample': [0.2, 0.4, 0.6, 0.8, 1.0], 'colsample_bytree': [0.5, 0.6, 0.7], 'reg_alpha': [0.01, 0.02, 0.03]},\n",
       "       pre_dispatch='2*n_jobs', refit=True, return_train_score='warn',\n",
       "       scoring=None, verbose=0)"
      ]
     },
     "execution_count": 51,
     "metadata": {},
     "output_type": "execute_result"
    }
   ],
   "source": [
    "xgboost = XGBClassifier()\n",
    "xgboost = GridSearchCV(estimator=xgboost, param_grid=xgboost_param_grid, cv=5)\n",
    "xgboost.fit(X_train, y_train)"
   ]
  },
  {
   "cell_type": "code",
   "execution_count": 52,
   "metadata": {},
   "outputs": [
    {
     "data": {
      "text/plain": [
       "{'colsample_bytree': 0.6,\n",
       " 'max_depth': 6,\n",
       " 'n_estimators': 100,\n",
       " 'reg_alpha': 0.02,\n",
       " 'subsample': 0.2}"
      ]
     },
     "execution_count": 52,
     "metadata": {},
     "output_type": "execute_result"
    }
   ],
   "source": [
    "xgboost.best_params_"
   ]
  },
  {
   "cell_type": "markdown",
   "metadata": {},
   "source": [
    "# 8. 변수 중요도"
   ]
  },
  {
   "cell_type": "markdown",
   "metadata": {},
   "source": [
    "### 8.1 (Example) RandomForest Algorithm → 파라미터 조정 전"
   ]
  },
  {
   "cell_type": "code",
   "execution_count": 53,
   "metadata": {},
   "outputs": [
    {
     "name": "stdout",
     "output_type": "stream",
     "text": [
      "Feature Importance of RandomForest(parameter before) : \n",
      "[0.11623351 0.23577155 0.07366527 0.04792614 0.06197544 0.12978792\n",
      " 0.09344547 0.13154365 0.10965106]\n"
     ]
    },
    {
     "data": {
      "image/png": "[encoded data removed]",
      "text/plain": [
       "<Figure size 720x360 with 1 Axes>"
      ]
     },
     "metadata": {
      "needs_background": "light"
     },
     "output_type": "display_data"
    }
   ],
   "source": [
    "from sklearn.ensemble import RandomForestClassifier\n",
    "randomforest = RandomForestClassifier()\n",
    "randomforest.fit(X_train, y_train)\n",
    "print(\"Feature Importance of RandomForest(parameter before) : \\n{}\".format(randomforest.feature_importances_))\n",
    "coef = pd.Series(randomforest.feature_importances_, index = X_train.columns).sort_values(ascending=False)\n",
    "plt.figure(figsize=(10, 5))\n",
    "coef.head(25).plot(kind='bar')\n",
    "plt.title('Feature Importance of RandomForest(parameter before)')\n",
    "plt.tight_layout()"
   ]
  },
  {
   "cell_type": "code",
   "execution_count": 54,
   "metadata": {},
   "outputs": [
    {
     "name": "stdout",
     "output_type": "stream",
     "text": [
      "Feature Importance of XGboost(parameter before) : \n",
      "[0.11623351 0.23577155 0.07366527 0.04792614 0.06197544 0.12978792\n",
      " 0.09344547 0.13154365 0.10965106]\n"
     ]
    },
    {
     "data": {
      "image/png": "[encoded data removed]",
      "text/plain": [
       "<Figure size 720x360 with 1 Axes>"
      ]
     },
     "metadata": {
      "needs_background": "light"
     },
     "output_type": "display_data"
    }
   ],
   "source": [
    "from xgboost import XGBClassifier\n",
    "xgboost = XGBClassifier()\n",
    "xgboost.fit(X_train, y_train)\n",
    "print(\"Feature Importance of XGboost(parameter before) : \\n{}\".format(randomforest.feature_importances_))\n",
    "coef = pd.Series(xgboost.feature_importances_, index = X_train.columns).sort_values(ascending=False)\n",
    "plt.figure(figsize=(10, 5))\n",
    "coef.head(25).plot(kind='bar')\n",
    "plt.title('Feature Importance of XGboost(parameter before)')\n",
    "plt.tight_layout()"
   ]
  },
  {
   "cell_type": "code",
   "execution_count": 55,
   "metadata": {},
   "outputs": [
    {
     "name": "stdout",
     "output_type": "stream",
     "text": [
      "Feature Importance of RandomForest(parameter before) : \n",
      "[0.10580378 0.30074422 0.07868603 0.05628946 0.04990821 0.10050973\n",
      " 0.08708307 0.11714978 0.10382573]\n"
     ]
    },
    {
     "data": {
      "image/png": "[encoded data removed]",
      "text/plain": [
       "<Figure size 720x360 with 1 Axes>"
      ]
     },
     "metadata": {
      "needs_background": "light"
     },
     "output_type": "display_data"
    }
   ],
   "source": [
    "from sklearn.ensemble import ExtraTreesClassifier\n",
    "randomforest = ExtraTreesClassifier()\n",
    "randomforest.fit(X_train, y_train)\n",
    "print(\"Feature Importance of RandomForest(parameter before) : \\n{}\".format(randomforest.feature_importances_))\n",
    "coef = pd.Series(randomforest.feature_importances_, index = X_train.columns).sort_values(ascending=False)\n",
    "plt.figure(figsize=(10, 5))\n",
    "coef.head(25).plot(kind='bar')\n",
    "plt.title('Feature Importance of RandomForest(parameter before)')\n",
    "plt.tight_layout()"
   ]
  },
  {
   "cell_type": "code",
   "execution_count": 56,
   "metadata": {},
   "outputs": [
    {
     "name": "stdout",
     "output_type": "stream",
     "text": [
      "Feature Importance of RandomForest(parameter before) : \n",
      "[0.12494485 0.48681372 0.09740407 0.01676707 0.03769703 0.06541148\n",
      " 0.04205947 0.12322981 0.00567252]\n"
     ]
    },
    {
     "data": {
      "image/png": "[encoded data removed]",
      "text/plain": [
       "<Figure size 720x360 with 1 Axes>"
      ]
     },
     "metadata": {
      "needs_background": "light"
     },
     "output_type": "display_data"
    }
   ],
   "source": [
    "from sklearn.ensemble import GradientBoostingClassifier\n",
    "randomforest = GradientBoostingClassifier()\n",
    "randomforest.fit(X_train, y_train)\n",
    "print(\"Feature Importance of RandomForest(parameter before) : \\n{}\".format(randomforest.feature_importances_))\n",
    "coef = pd.Series(randomforest.feature_importances_, index = X_train.columns).sort_values(ascending=False)\n",
    "plt.figure(figsize=(10, 5))\n",
    "coef.head(25).plot(kind='bar')\n",
    "plt.title('Feature Importance of RandomForest(parameter before)')\n",
    "plt.tight_layout()"
   ]
  },
  {
   "cell_type": "code",
   "execution_count": 57,
   "metadata": {},
   "outputs": [
    {
     "name": "stdout",
     "output_type": "stream",
     "text": [
      "Feature Importance of RandomForest(parameter before) : \n",
      "[0.06 0.06 0.06 0.04 0.02 0.16 0.14 0.4  0.06]\n"
     ]
    },
    {
     "data": {
      "image/png": "[encoded data removed]",
      "text/plain": [
       "<Figure size 720x360 with 1 Axes>"
      ]
     },
     "metadata": {
      "needs_background": "light"
     },
     "output_type": "display_data"
    }
   ],
   "source": [
    "from sklearn.ensemble import AdaBoostClassifier\n",
    "randomforest = AdaBoostClassifier()\n",
    "randomforest.fit(X_train, y_train)\n",
    "print(\"Feature Importance of RandomForest(parameter before) : \\n{}\".format(randomforest.feature_importances_))\n",
    "coef = pd.Series(randomforest.feature_importances_, index = X_train.columns).sort_values(ascending=False)\n",
    "plt.figure(figsize=(10, 5))\n",
    "coef.head(25).plot(kind='bar')\n",
    "plt.title('Feature Importance of RandomForest(parameter before)')\n",
    "plt.tight_layout()"
   ]
  },
  {
   "cell_type": "code",
   "execution_count": null,
   "metadata": {},
   "outputs": [],
   "source": []
  },
  {
   "cell_type": "code",
   "execution_count": null,
   "metadata": {},
   "outputs": [],
   "source": []
  },
  {
   "cell_type": "code",
   "execution_count": 53,
   "metadata": {
    "collapsed": true
   },
   "outputs": [
    {
     "data": {
      "text/plain": [
       "RandomForestClassifier(bootstrap=True, class_weight=None, criterion='gini',\n",
       "            max_depth=None, max_features='auto', max_leaf_nodes=None,\n",
       "            min_impurity_decrease=0.0, min_impurity_split=None,\n",
       "            min_samples_leaf=1, min_samples_split=2,\n",
       "            min_weight_fraction_leaf=0.0, n_estimators=10, n_jobs=None,\n",
       "            oob_score=False, random_state=None, verbose=0,\n",
       "            warm_start=False)"
      ]
     },
     "execution_count": 53,
     "metadata": {},
     "output_type": "execute_result"
    }
   ],
   "source": []
  },
  {
   "cell_type": "code",
   "execution_count": 54,
   "metadata": {},
   "outputs": [
    {
     "name": "stdout",
     "output_type": "stream",
     "text": [
      "Feature Importance of RandomForest(parameter before) : \n",
      "[0.1163387  0.29767923 0.06212315 0.04667878 0.05037887 0.10258613\n",
      " 0.0869136  0.14339298 0.09390854]\n"
     ]
    }
   ],
   "source": [
    "print(\"Feature Importance of RandomForest(parameter before) : \\n{}\".format(randomforest.feature_importances_))"
   ]
  },
  {
   "cell_type": "code",
   "execution_count": 55,
   "metadata": {},
   "outputs": [
    {
     "data": {
      "image/png": "[encoded data removed]",
      "text/plain": [
       "<Figure size 720x360 with 1 Axes>"
      ]
     },
     "metadata": {
      "needs_background": "light"
     },
     "output_type": "display_data"
    }
   ],
   "source": [
    "coef = pd.Series(randomforest.feature_importances_, index = X_train.columns).sort_values(ascending=False)\n",
    "plt.figure(figsize=(10, 5))\n",
    "coef.head(25).plot(kind='bar')\n",
    "plt.title('Feature Importance of RandomForest(parameter before)')\n",
    "plt.tight_layout()"
   ]
  },
  {
   "cell_type": "markdown",
   "metadata": {},
   "source": [
    "### 8.2 (Example) RnadomForest Algorithm → 파라미터 조정 후"
   ]
  },
  {
   "cell_type": "code",
   "execution_count": 56,
   "metadata": {},
   "outputs": [
    {
     "data": {
      "text/plain": [
       "RandomForestClassifier(bootstrap=True, class_weight=None, criterion='gini',\n",
       "            max_depth=6, max_features='sqrt', max_leaf_nodes=None,\n",
       "            min_impurity_decrease=0.0, min_impurity_split=None,\n",
       "            min_samples_leaf=1, min_samples_split=2,\n",
       "            min_weight_fraction_leaf=0.0, n_estimators=200, n_jobs=None,\n",
       "            oob_score=False, random_state=0, verbose=0, warm_start=False)"
      ]
     },
     "execution_count": 56,
     "metadata": {},
     "output_type": "execute_result"
    }
   ],
   "source": [
    "randomforest = RandomForestClassifier(criterion='gini',\n",
    "                                      max_depth=6,\n",
    "                                      max_features='sqrt',\n",
    "                                      n_estimators=200,\n",
    "                                      random_state=0)\n",
    "randomforest.fit(X_train, y_train)"
   ]
  },
  {
   "cell_type": "code",
   "execution_count": 57,
   "metadata": {},
   "outputs": [
    {
     "name": "stdout",
     "output_type": "stream",
     "text": [
      "Feature Importance of RandomForest(parameter after) : \n",
      "[0.11008557 0.327771   0.07961085 0.03871941 0.03735618 0.20040094\n",
      " 0.04279952 0.0912337  0.07202284]\n"
     ]
    }
   ],
   "source": [
    "print(\"Feature Importance of RandomForest(parameter after) : \\n{}\".format(randomforest.feature_importances_))"
   ]
  },
  {
   "cell_type": "code",
   "execution_count": 58,
   "metadata": {},
   "outputs": [
    {
     "data": {
      "image/png": "[encoded data removed]",
      "text/plain": [
       "<Figure size 720x360 with 1 Axes>"
      ]
     },
     "metadata": {
      "needs_background": "light"
     },
     "output_type": "display_data"
    }
   ],
   "source": [
    "coef = pd.Series(randomforest.feature_importances_, index = X_train.columns).sort_values(ascending=False)\n",
    "plt.figure(figsize=(10, 5))\n",
    "coef.head(25).plot(kind='bar')\n",
    "plt.title('Feature Importance of RandomForest(parameter after)')\n",
    "plt.tight_layout()"
   ]
  },
  {
   "cell_type": "code",
   "execution_count": 64,
   "metadata": {},
   "outputs": [
    {
     "data": {
      "image/png": "[encoded data removed]",
      "text/plain": [
       "<Figure size 720x360 with 1 Axes>"
      ]
     },
     "metadata": {
      "needs_background": "light"
     },
     "output_type": "display_data"
    }
   ],
   "source": [
    "coef = pd.Series(xgboost.feature_importances_, index = X_train.columns).sort_values(ascending=False)\n",
    "plt.figure(figsize=(10, 5))\n",
    "coef.head(25).plot(kind='bar')\n",
    "plt.title('Feature Importance of XGBoost(parameter after)')\n",
    "plt.tight_layout()"
   ]
  },
  {
   "cell_type": "markdown",
   "metadata": {},
   "source": [
    "### 8.3 (Example) XGBoost Algorithm → 파라미터 조정 전"
   ]
  },
  {
   "cell_type": "code",
   "execution_count": 59,
   "metadata": {},
   "outputs": [
    {
     "data": {
      "text/plain": [
       "XGBClassifier(base_score=0.5, booster='gbtree', colsample_bylevel=1,\n",
       "       colsample_bytree=1, gamma=0, learning_rate=0.1, max_delta_step=0,\n",
       "       max_depth=3, min_child_weight=1, missing=None, n_estimators=100,\n",
       "       n_jobs=1, nthread=None, objective='binary:logistic', random_state=0,\n",
       "       reg_alpha=0, reg_lambda=1, scale_pos_weight=1, seed=None,\n",
       "       silent=True, subsample=1)"
      ]
     },
     "execution_count": 59,
     "metadata": {},
     "output_type": "execute_result"
    }
   ],
   "source": [
    "from xgboost import XGBClassifier\n",
    "xgboost = XGBClassifier()\n",
    "xgboost.fit(X_train, y_train)"
   ]
  },
  {
   "cell_type": "code",
   "execution_count": 60,
   "metadata": {},
   "outputs": [
    {
     "name": "stdout",
     "output_type": "stream",
     "text": [
      "Feature Importance of XGBoost(parameter before) : \n",
      "[0.11667775 0.5757292  0.07366282 0.03385052 0.06537451 0.05211968\n",
      " 0.02801814 0.03893828 0.01562913]\n"
     ]
    }
   ],
   "source": [
    "print(\"Feature Importance of XGBoost(parameter before) : \\n{}\".format(xgboost.feature_importances_))"
   ]
  },
  {
   "cell_type": "code",
   "execution_count": 61,
   "metadata": {},
   "outputs": [
    {
     "data": {
      "image/png": "[encoded data removed]",
      "text/plain": [
       "<Figure size 720x360 with 1 Axes>"
      ]
     },
     "metadata": {
      "needs_background": "light"
     },
     "output_type": "display_data"
    }
   ],
   "source": [
    "coef = pd.Series(xgboost.feature_importances_, index = X_train.columns).sort_values(ascending=False)\n",
    "plt.figure(figsize=(10, 5))\n",
    "coef.head(25).plot(kind='bar')\n",
    "plt.title('Feature Importance of XGBoost(parameter before)')\n",
    "plt.tight_layout()"
   ]
  },
  {
   "cell_type": "markdown",
   "metadata": {},
   "source": [
    "### 8.4 (Example) XGBoost Algorithm → 파라미터 조정 후"
   ]
  },
  {
   "cell_type": "code",
   "execution_count": 62,
   "metadata": {},
   "outputs": [
    {
     "data": {
      "text/plain": [
       "XGBClassifier(base_score=0.5, booster='gbtree', colsample_bylevel=1,\n",
       "       colsample_bytree=0.6, gamma=0, learning_rate=0.1, max_delta_step=0,\n",
       "       max_depth=6, min_child_weight=1, missing=None, n_estimators=100,\n",
       "       n_jobs=1, nthread=None, objective='binary:logistic', random_state=0,\n",
       "       reg_alpha=0.02, reg_lambda=1, scale_pos_weight=1, seed=None,\n",
       "       silent=True, subsample=0.2)"
      ]
     },
     "execution_count": 62,
     "metadata": {},
     "output_type": "execute_result"
    }
   ],
   "source": [
    "xgboost = XGBClassifier(colsample_bytree=0.6,\n",
    "                        max_depth=6,\n",
    "                        n_estimators=100,\n",
    "                        reg_alpha=0.02,\n",
    "                        subsample=0.2)\n",
    "xgboost.fit(X_train, y_train)"
   ]
  },
  {
   "cell_type": "code",
   "execution_count": 63,
   "metadata": {},
   "outputs": [
    {
     "name": "stdout",
     "output_type": "stream",
     "text": [
      "Feature Importance of XGBoost(parameter after) : \n",
      "[0.10857483 0.238254   0.08230926 0.08337237 0.09160268 0.15155882\n",
      " 0.06223319 0.10437542 0.07771943]\n"
     ]
    }
   ],
   "source": [
    "print(\"Feature Importance of XGBoost(parameter after) : \\n{}\".format(xgboost.feature_importances_))"
   ]
  },
  {
   "cell_type": "markdown",
   "metadata": {},
   "source": [
    "# 9. 모델 학습 → 파라미터 최적화 및 교차검증 없음"
   ]
  },
  {
   "cell_type": "code",
   "execution_count": 65,
   "metadata": {},
   "outputs": [],
   "source": [
    "from sklearn.linear_model import LogisticRegression             # 1\n",
    "from sklearn.svm import SVC                                     # 2\n",
    "from sklearn.linear_model import Perceptron                     # 3\n",
    "from sklearn.neural_network import MLPClassifier                # 4\n",
    "from sklearn.tree import DecisionTreeClassifier                 # 5\n",
    "from sklearn.naive_bayes import GaussianNB                      # 6\n",
    "from sklearn.linear_model import SGDClassifier                  # 7\n",
    "from sklearn.neighbors import KNeighborsClassifier              # 8\n",
    "from sklearn.ensemble import RandomForestClassifier             # 9\n",
    "from sklearn.ensemble import GradientBoostingClassifier         # 10\n",
    "from sklearn.ensemble import AdaBoostClassifier                 # 11\n",
    "from sklearn.ensemble import ExtraTreesClassifier               # 12\n",
    "from xgboost import XGBClassifier                               # 13\n",
    "from sklearn import metrics\n",
    "from sklearn.metrics import accuracy_score\n",
    "from sklearn.model_selection import cross_val_score"
   ]
  },
  {
   "cell_type": "markdown",
   "metadata": {},
   "source": [
    "### 9.1 LogisticRegression"
   ]
  },
  {
   "cell_type": "code",
   "execution_count": 66,
   "metadata": {},
   "outputs": [
    {
     "name": "stdout",
     "output_type": "stream",
     "text": [
      "              precision    recall  f1-score   support\n",
      "\n",
      "           0       0.84      0.85      0.84       168\n",
      "           1       0.73      0.72      0.73       100\n",
      "\n",
      "   micro avg       0.80      0.80      0.80       268\n",
      "   macro avg       0.78      0.78      0.78       268\n",
      "weighted avg       0.80      0.80      0.80       268\n",
      "\n"
     ]
    }
   ],
   "source": [
    "logisticregression = LogisticRegression()\n",
    "logisticregression.fit(X_train, y_train)\n",
    "logisticregression_prediction = logisticregression.predict(X_test)\n",
    "logisticregression_score = accuracy_score(y_test, logisticregression_prediction)\n",
    "print(metrics.classification_report(y_test, logisticregression_prediction))"
   ]
  },
  {
   "cell_type": "markdown",
   "metadata": {},
   "source": [
    "### 9.2 SupportVectorMachine"
   ]
  },
  {
   "cell_type": "code",
   "execution_count": 67,
   "metadata": {},
   "outputs": [
    {
     "name": "stdout",
     "output_type": "stream",
     "text": [
      "              precision    recall  f1-score   support\n",
      "\n",
      "           0       0.85      0.84      0.85       168\n",
      "           1       0.74      0.76      0.75       100\n",
      "\n",
      "   micro avg       0.81      0.81      0.81       268\n",
      "   macro avg       0.80      0.80      0.80       268\n",
      "weighted avg       0.81      0.81      0.81       268\n",
      "\n"
     ]
    }
   ],
   "source": [
    "svc = SVC()\n",
    "svc.fit(X_train, y_train)\n",
    "svc_prediction = svc.predict(X_test)\n",
    "svc_score = accuracy_score(y_test, svc_prediction)\n",
    "print(metrics.classification_report(y_test, svc_prediction))"
   ]
  },
  {
   "cell_type": "markdown",
   "metadata": {},
   "source": [
    "### 9.3 Perceptron"
   ]
  },
  {
   "cell_type": "code",
   "execution_count": 68,
   "metadata": {},
   "outputs": [
    {
     "name": "stdout",
     "output_type": "stream",
     "text": [
      "              precision    recall  f1-score   support\n",
      "\n",
      "           0       0.80      0.82      0.81       168\n",
      "           1       0.69      0.66      0.67       100\n",
      "\n",
      "   micro avg       0.76      0.76      0.76       268\n",
      "   macro avg       0.74      0.74      0.74       268\n",
      "weighted avg       0.76      0.76      0.76       268\n",
      "\n"
     ]
    }
   ],
   "source": [
    "perceptron = Perceptron()\n",
    "perceptron.fit(X_train, y_train)\n",
    "perceptron_prediction = perceptron.predict(X_test)\n",
    "perceptron_score = accuracy_score(y_test, perceptron_prediction)\n",
    "print(metrics.classification_report(y_test, perceptron_prediction))"
   ]
  },
  {
   "cell_type": "markdown",
   "metadata": {},
   "source": [
    "### 9.4 MultiLayerPerceptron"
   ]
  },
  {
   "cell_type": "code",
   "execution_count": 69,
   "metadata": {},
   "outputs": [
    {
     "name": "stdout",
     "output_type": "stream",
     "text": [
      "              precision    recall  f1-score   support\n",
      "\n",
      "           0       0.82      0.87      0.84       168\n",
      "           1       0.76      0.68      0.72       100\n",
      "\n",
      "   micro avg       0.80      0.80      0.80       268\n",
      "   macro avg       0.79      0.77      0.78       268\n",
      "weighted avg       0.80      0.80      0.80       268\n",
      "\n"
     ]
    }
   ],
   "source": [
    "mlp = MLPClassifier()\n",
    "mlp.fit(X_train, y_train)\n",
    "mlp_prediction = mlp.predict(X_test)\n",
    "mlp_score = accuracy_score(y_test, mlp_prediction)\n",
    "print(metrics.classification_report(y_test, mlp_prediction))"
   ]
  },
  {
   "cell_type": "markdown",
   "metadata": {},
   "source": [
    "### 9.5 DecisionTree"
   ]
  },
  {
   "cell_type": "code",
   "execution_count": 70,
   "metadata": {},
   "outputs": [
    {
     "name": "stdout",
     "output_type": "stream",
     "text": [
      "              precision    recall  f1-score   support\n",
      "\n",
      "           0       0.82      0.89      0.85       168\n",
      "           1       0.79      0.67      0.72       100\n",
      "\n",
      "   micro avg       0.81      0.81      0.81       268\n",
      "   macro avg       0.80      0.78      0.79       268\n",
      "weighted avg       0.81      0.81      0.81       268\n",
      "\n"
     ]
    }
   ],
   "source": [
    "decisiontree = DecisionTreeClassifier()\n",
    "decisiontree.fit(X_train, y_train)\n",
    "decisiontree_prediction = decisiontree.predict(X_test)\n",
    "decisiontree_score = accuracy_score(y_test, decisiontree_prediction)\n",
    "print(metrics.classification_report(y_test, decisiontree_prediction))"
   ]
  },
  {
   "cell_type": "markdown",
   "metadata": {},
   "source": [
    "### 9.6 GaussianNaiveBayes"
   ]
  },
  {
   "cell_type": "code",
   "execution_count": 71,
   "metadata": {},
   "outputs": [
    {
     "name": "stdout",
     "output_type": "stream",
     "text": [
      "              precision    recall  f1-score   support\n",
      "\n",
      "           0       0.86      0.78      0.82       168\n",
      "           1       0.68      0.79      0.73       100\n",
      "\n",
      "   micro avg       0.78      0.78      0.78       268\n",
      "   macro avg       0.77      0.78      0.78       268\n",
      "weighted avg       0.79      0.78      0.79       268\n",
      "\n"
     ]
    }
   ],
   "source": [
    "gaussiannb = GaussianNB()\n",
    "gaussiannb.fit(X_train, y_train)\n",
    "gaussiannb_prediction = gaussiannb.predict(X_test)\n",
    "gaussiannb_score = accuracy_score(y_test, gaussiannb_prediction)\n",
    "print(metrics.classification_report(y_test, gaussiannb_prediction))"
   ]
  },
  {
   "cell_type": "markdown",
   "metadata": {},
   "source": [
    "### 9.7 StochasticGradientDescent"
   ]
  },
  {
   "cell_type": "code",
   "execution_count": 72,
   "metadata": {},
   "outputs": [
    {
     "name": "stdout",
     "output_type": "stream",
     "text": [
      "              precision    recall  f1-score   support\n",
      "\n",
      "           0       0.86      0.76      0.80       168\n",
      "           1       0.66      0.79      0.72       100\n",
      "\n",
      "   micro avg       0.77      0.77      0.77       268\n",
      "   macro avg       0.76      0.77      0.76       268\n",
      "weighted avg       0.78      0.77      0.77       268\n",
      "\n"
     ]
    }
   ],
   "source": [
    "sgd = SGDClassifier()\n",
    "sgd.fit(X_train, y_train)\n",
    "sgd_prediction = sgd.predict(X_test)\n",
    "sgd_score = accuracy_score(y_test, sgd_prediction)\n",
    "print(metrics.classification_report(y_test, sgd_prediction))"
   ]
  },
  {
   "cell_type": "markdown",
   "metadata": {},
   "source": [
    "### 9.8 KNearestNeighbors"
   ]
  },
  {
   "cell_type": "code",
   "execution_count": 73,
   "metadata": {},
   "outputs": [
    {
     "name": "stdout",
     "output_type": "stream",
     "text": [
      "              precision    recall  f1-score   support\n",
      "\n",
      "           0       0.85      0.88      0.87       168\n",
      "           1       0.79      0.74      0.76       100\n",
      "\n",
      "   micro avg       0.83      0.83      0.83       268\n",
      "   macro avg       0.82      0.81      0.81       268\n",
      "weighted avg       0.83      0.83      0.83       268\n",
      "\n"
     ]
    }
   ],
   "source": [
    "knearestneighbors = KNeighborsClassifier()\n",
    "knearestneighbors.fit(X_train, y_train)\n",
    "knearestneighbors_prediction = knearestneighbors.predict(X_test)\n",
    "knearestneighbors_score = accuracy_score(y_test, knearestneighbors_prediction)\n",
    "print(metrics.classification_report(y_test, knearestneighbors_prediction))"
   ]
  },
  {
   "cell_type": "markdown",
   "metadata": {},
   "source": [
    "### 9.9 RandomForest"
   ]
  },
  {
   "cell_type": "code",
   "execution_count": 74,
   "metadata": {},
   "outputs": [
    {
     "name": "stdout",
     "output_type": "stream",
     "text": [
      "              precision    recall  f1-score   support\n",
      "\n",
      "           0       0.82      0.89      0.85       168\n",
      "           1       0.78      0.68      0.73       100\n",
      "\n",
      "   micro avg       0.81      0.81      0.81       268\n",
      "   macro avg       0.80      0.78      0.79       268\n",
      "weighted avg       0.81      0.81      0.81       268\n",
      "\n"
     ]
    }
   ],
   "source": [
    "randomforest = RandomForestClassifier()\n",
    "randomforest.fit(X_train, y_train)\n",
    "randomforest_prediction = randomforest.predict(X_test)\n",
    "randomforest_score = accuracy_score(y_test, randomforest_prediction)\n",
    "print(metrics.classification_report(y_test, randomforest_prediction))"
   ]
  },
  {
   "cell_type": "markdown",
   "metadata": {},
   "source": [
    "### 9.10 GradientBoosting"
   ]
  },
  {
   "cell_type": "code",
   "execution_count": 75,
   "metadata": {},
   "outputs": [
    {
     "name": "stdout",
     "output_type": "stream",
     "text": [
      "              precision    recall  f1-score   support\n",
      "\n",
      "           0       0.84      0.90      0.87       168\n",
      "           1       0.81      0.72      0.76       100\n",
      "\n",
      "   micro avg       0.83      0.83      0.83       268\n",
      "   macro avg       0.83      0.81      0.82       268\n",
      "weighted avg       0.83      0.83      0.83       268\n",
      "\n"
     ]
    }
   ],
   "source": [
    "gradientboosting = GradientBoostingClassifier()\n",
    "gradientboosting.fit(X_train, y_train)\n",
    "gradientboosting_prediction = gradientboosting.predict(X_test)\n",
    "gradientboosting_score = accuracy_score(y_test, gradientboosting_prediction)\n",
    "print(metrics.classification_report(y_test, gradientboosting_prediction))"
   ]
  },
  {
   "cell_type": "markdown",
   "metadata": {},
   "source": [
    "### 9.11 AdaBoost"
   ]
  },
  {
   "cell_type": "code",
   "execution_count": 76,
   "metadata": {},
   "outputs": [
    {
     "name": "stdout",
     "output_type": "stream",
     "text": [
      "              precision    recall  f1-score   support\n",
      "\n",
      "           0       0.86      0.86      0.86       168\n",
      "           1       0.77      0.77      0.77       100\n",
      "\n",
      "   micro avg       0.83      0.83      0.83       268\n",
      "   macro avg       0.82      0.82      0.82       268\n",
      "weighted avg       0.83      0.83      0.83       268\n",
      "\n"
     ]
    }
   ],
   "source": [
    "adaboost = AdaBoostClassifier()\n",
    "adaboost.fit(X_train, y_train)\n",
    "adaboost_prediction = adaboost.predict(X_test)\n",
    "adaboost_score = accuracy_score(y_test, adaboost_prediction)\n",
    "print(metrics.classification_report(y_test, adaboost_prediction))"
   ]
  },
  {
   "cell_type": "markdown",
   "metadata": {},
   "source": [
    "### 9.12 ExtraTree"
   ]
  },
  {
   "cell_type": "code",
   "execution_count": 77,
   "metadata": {},
   "outputs": [
    {
     "name": "stdout",
     "output_type": "stream",
     "text": [
      "              precision    recall  f1-score   support\n",
      "\n",
      "           0       0.83      0.90      0.87       168\n",
      "           1       0.81      0.69      0.75       100\n",
      "\n",
      "   micro avg       0.82      0.82      0.82       268\n",
      "   macro avg       0.82      0.80      0.81       268\n",
      "weighted avg       0.82      0.82      0.82       268\n",
      "\n"
     ]
    }
   ],
   "source": [
    "extratree = ExtraTreesClassifier()\n",
    "extratree.fit(X_train, y_train)\n",
    "extratree_prediction = extratree.predict(X_test)\n",
    "extratree_score = accuracy_score(y_test, extratree_prediction)\n",
    "print(metrics.classification_report(y_test, extratree_prediction))"
   ]
  },
  {
   "cell_type": "markdown",
   "metadata": {},
   "source": [
    "### 9.13 XGBoost"
   ]
  },
  {
   "cell_type": "code",
   "execution_count": 78,
   "metadata": {},
   "outputs": [
    {
     "name": "stdout",
     "output_type": "stream",
     "text": [
      "              precision    recall  f1-score   support\n",
      "\n",
      "           0       0.83      0.91      0.87       168\n",
      "           1       0.82      0.69      0.75       100\n",
      "\n",
      "   micro avg       0.83      0.83      0.83       268\n",
      "   macro avg       0.83      0.80      0.81       268\n",
      "weighted avg       0.83      0.83      0.82       268\n",
      "\n"
     ]
    }
   ],
   "source": [
    "xgb = XGBClassifier()\n",
    "xgb.fit(X_train, y_train)\n",
    "xgb_prediction = xgb.predict(X_test)\n",
    "xgb_score = accuracy_score(y_test, xgb_prediction)\n",
    "print(metrics.classification_report(y_test, xgb_prediction))"
   ]
  },
  {
   "cell_type": "markdown",
   "metadata": {},
   "source": [
    "### 9.14 파라미터 최적화 미적용 모델 성능 비교"
   ]
  },
  {
   "cell_type": "code",
   "execution_count": 79,
   "metadata": {},
   "outputs": [
    {
     "data": {
      "text/html": [
       "<div>\n",
       "<style scoped>\n",
       "    .dataframe tbody tr th:only-of-type {\n",
       "        vertical-align: middle;\n",
       "    }\n",
       "\n",
       "    .dataframe tbody tr th {\n",
       "        vertical-align: top;\n",
       "    }\n",
       "\n",
       "    .dataframe thead th {\n",
       "        text-align: right;\n",
       "    }\n",
       "</style>\n",
       "<table border=\"1\" class=\"dataframe\">\n",
       "  <thead>\n",
       "    <tr style=\"text-align: right;\">\n",
       "      <th></th>\n",
       "      <th>Model</th>\n",
       "      <th>Score</th>\n",
       "    </tr>\n",
       "  </thead>\n",
       "  <tbody>\n",
       "    <tr>\n",
       "      <th>10</th>\n",
       "      <td>AdaBoost</td>\n",
       "      <td>0.832090</td>\n",
       "    </tr>\n",
       "    <tr>\n",
       "      <th>7</th>\n",
       "      <td>KNearestNeighbors</td>\n",
       "      <td>0.828358</td>\n",
       "    </tr>\n",
       "    <tr>\n",
       "      <th>8</th>\n",
       "      <td>RandomForest</td>\n",
       "      <td>0.828358</td>\n",
       "    </tr>\n",
       "    <tr>\n",
       "      <th>12</th>\n",
       "      <td>XGBoost</td>\n",
       "      <td>0.828358</td>\n",
       "    </tr>\n",
       "    <tr>\n",
       "      <th>11</th>\n",
       "      <td>ExtraTree</td>\n",
       "      <td>0.824627</td>\n",
       "    </tr>\n",
       "    <tr>\n",
       "      <th>1</th>\n",
       "      <td>SupportVectorMachine</td>\n",
       "      <td>0.809701</td>\n",
       "    </tr>\n",
       "    <tr>\n",
       "      <th>4</th>\n",
       "      <td>DecisionTree</td>\n",
       "      <td>0.809701</td>\n",
       "    </tr>\n",
       "    <tr>\n",
       "      <th>9</th>\n",
       "      <td>GradientBoosting</td>\n",
       "      <td>0.809701</td>\n",
       "    </tr>\n",
       "    <tr>\n",
       "      <th>0</th>\n",
       "      <td>LogisticRegression</td>\n",
       "      <td>0.798507</td>\n",
       "    </tr>\n",
       "    <tr>\n",
       "      <th>3</th>\n",
       "      <td>MultiLayerPerceptron</td>\n",
       "      <td>0.798507</td>\n",
       "    </tr>\n",
       "    <tr>\n",
       "      <th>5</th>\n",
       "      <td>GaussianNB</td>\n",
       "      <td>0.783582</td>\n",
       "    </tr>\n",
       "    <tr>\n",
       "      <th>6</th>\n",
       "      <td>StochasticGradientDescent</td>\n",
       "      <td>0.768657</td>\n",
       "    </tr>\n",
       "    <tr>\n",
       "      <th>2</th>\n",
       "      <td>Perceptron</td>\n",
       "      <td>0.761194</td>\n",
       "    </tr>\n",
       "  </tbody>\n",
       "</table>\n",
       "</div>"
      ],
      "text/plain": [
       "                        Model     Score\n",
       "10                   AdaBoost  0.832090\n",
       "7           KNearestNeighbors  0.828358\n",
       "8                RandomForest  0.828358\n",
       "12                    XGBoost  0.828358\n",
       "11                  ExtraTree  0.824627\n",
       "1        SupportVectorMachine  0.809701\n",
       "4                DecisionTree  0.809701\n",
       "9            GradientBoosting  0.809701\n",
       "0          LogisticRegression  0.798507\n",
       "3        MultiLayerPerceptron  0.798507\n",
       "5                  GaussianNB  0.783582\n",
       "6   StochasticGradientDescent  0.768657\n",
       "2                  Perceptron  0.761194"
      ]
     },
     "execution_count": 79,
     "metadata": {},
     "output_type": "execute_result"
    }
   ],
   "source": [
    "models = pd.DataFrame({\n",
    "    'Model' : [\"LogisticRegression\", \"SupportVectorMachine\", \"Perceptron\", \"MultiLayerPerceptron\", \"DecisionTree\", \"GaussianNB\", \"StochasticGradientDescent\",\n",
    "              \"KNearestNeighbors\", \"RandomForest\", \"GradientBoosting\", \"AdaBoost\", \"ExtraTree\", \"XGBoost\"],\n",
    "    'Score' : [logisticregression_score, svc_score, perceptron_score, mlp_score, decisiontree_score, gaussiannb_score, sgd_score,\n",
    "                knearestneighbors_score, knearestneighbors_score, randomforest_score, gradientboosting_score, extratree_score, xgb_score]\n",
    "})\n",
    "models.sort_values(by='Score', ascending=False)"
   ]
  },
  {
   "cell_type": "markdown",
   "metadata": {},
   "source": [
    "# 10. 모델 학습 → 파라미터 최적화 및 교차검증 있음"
   ]
  },
  {
   "cell_type": "code",
   "execution_count": 80,
   "metadata": {},
   "outputs": [],
   "source": [
    "from sklearn.model_selection import KFold\n",
    "kfold = KFold(n_splits=5, shuffle=True, random_state=0) # 교차검증(Cross-Validation)\n",
    "values = [0.001, 0.01, 0.1, 1, 10, 100]"
   ]
  },
  {
   "cell_type": "markdown",
   "metadata": {},
   "source": [
    "### 10.1 LogisticRegression"
   ]
  },
  {
   "cell_type": "code",
   "execution_count": 81,
   "metadata": {},
   "outputs": [
    {
     "name": "stderr",
     "output_type": "stream",
     "text": [
      "c:\\users\\dgkim1108\\anaconda3\\envs\\tfgpu\\lib\\site-packages\\sklearn\\model_selection\\_search.py:841: DeprecationWarning: The default of the `iid` parameter will change from True to False in version 0.22 and will be removed in 0.24. This will change numeric results when test-set sizes are unequal.\n",
      "  DeprecationWarning)\n"
     ]
    }
   ],
   "source": [
    "parameters = {'penalty': ['l1', 'l2']}, {'solver': ['newton-cg', 'lbfgs', 'liblinear', 'sag', 'saga']}, {'max_iter': range(100, 1000)}, {'C': values}\n",
    "logisticregression_2 = LogisticRegression()\n",
    "logisticregression_2 = GridSearchCV(logisticregression_2, parameters, cv=kfold)\n",
    "logisticregression_2.fit(X_train, y_train)\n",
    "logisticregression_prediction_2 = logisticregression_2.predict(X_test)"
   ]
  },
  {
   "cell_type": "code",
   "execution_count": 82,
   "metadata": {},
   "outputs": [
    {
     "name": "stdout",
     "output_type": "stream",
     "text": [
      "GridSearchCV를 이용한 최적 매개변수 점수 ==> 0.772071\n",
      "GridSearchCV를 이용한 최적 매개변수 ==> {'penalty': 'l1'}\n",
      "GridSearchCV를 이용한 test점수 ==> 0.798507\n",
      "GridSearchCV를 이용한 최고 성능 모델 ==> \n",
      "LogisticRegression(C=1.0, class_weight=None, dual=False, fit_intercept=True,\n",
      "          intercept_scaling=1, max_iter=100, multi_class='warn',\n",
      "          n_jobs=None, penalty='l1', random_state=None, solver='warn',\n",
      "          tol=0.0001, verbose=0, warm_start=False)\n"
     ]
    }
   ],
   "source": [
    "score = logisticregression_2.score(X_test, y_test)\n",
    "score_1 = score\n",
    "print('GridSearchCV를 이용한 최적 매개변수 점수 ==> {:.6f}'.format(logisticregression_2.best_score_))\n",
    "print('GridSearchCV를 이용한 최적 매개변수 ==> {}'.format(logisticregression_2.best_params_))\n",
    "print('GridSearchCV를 이용한 test점수 ==> {:.6f}'.format(score))\n",
    "print('GridSearchCV를 이용한 최고 성능 모델 ==> \\n{}'.format(logisticregression_2.best_estimator_))"
   ]
  },
  {
   "cell_type": "markdown",
   "metadata": {},
   "source": [
    "### 10.2 SupportVectorMachine"
   ]
  },
  {
   "cell_type": "code",
   "execution_count": 83,
   "metadata": {},
   "outputs": [],
   "source": [
    "parameters = {'kernel': ['rbf'], 'C': values,\n",
    "              'kernel': ['gamma'], 'C': values,\n",
    "              'kernel': ['linear'], 'C': values}\n",
    "svc_2 = SVC()\n",
    "svc_2 = GridSearchCV(svc_2, parameters, cv=kfold)\n",
    "svc_2.fit(X_train, y_train)\n",
    "svc_prediction_2 = svc_2.predict(X_test)"
   ]
  },
  {
   "cell_type": "code",
   "execution_count": 84,
   "metadata": {},
   "outputs": [
    {
     "name": "stdout",
     "output_type": "stream",
     "text": [
      "GridSearchCV를 이용한 최적 매개변수 점수 ==> 0.786517\n",
      "GridSearchCV를 이용한 최적 매개변수 ==> {'C': 0.01, 'kernel': 'linear'}\n",
      "GridSearchCV를 이용한 test점수 ==> 0.787313\n",
      "GridSearchCV를 이용한 최고 성능 모델 ==> \n",
      "SVC(C=0.01, cache_size=200, class_weight=None, coef0=0.0,\n",
      "  decision_function_shape='ovr', degree=3, gamma='auto_deprecated',\n",
      "  kernel='linear', max_iter=-1, probability=False, random_state=None,\n",
      "  shrinking=True, tol=0.001, verbose=False)\n"
     ]
    }
   ],
   "source": [
    "score = svc_2.score(X_test, y_test)\n",
    "score_2 = score\n",
    "print('GridSearchCV를 이용한 최적 매개변수 점수 ==> {:.6f}'.format(svc_2.best_score_))\n",
    "print('GridSearchCV를 이용한 최적 매개변수 ==> {}'.format(svc_2.best_params_))\n",
    "print('GridSearchCV를 이용한 test점수 ==> {:.6f}'.format(score))\n",
    "print('GridSearchCV를 이용한 최고 성능 모델 ==> \\n{}'.format(svc_2.best_estimator_))"
   ]
  },
  {
   "cell_type": "markdown",
   "metadata": {},
   "source": [
    "### 10.3 Perceptron"
   ]
  },
  {
   "cell_type": "code",
   "execution_count": 85,
   "metadata": {},
   "outputs": [
    {
     "name": "stderr",
     "output_type": "stream",
     "text": [
      "c:\\users\\dgkim1108\\anaconda3\\envs\\tfgpu\\lib\\site-packages\\sklearn\\model_selection\\_search.py:841: DeprecationWarning: The default of the `iid` parameter will change from True to False in version 0.22 and will be removed in 0.24. This will change numeric results when test-set sizes are unequal.\n",
      "  DeprecationWarning)\n"
     ]
    }
   ],
   "source": [
    "parameters = {'alpha': 10.0 ** -np.arange(1, 7),\n",
    "              'random_state': [0, 1, 2, 3, 4, 5, 6, 7, 8, 9]}\n",
    "perceptron_2 = Perceptron()\n",
    "perceptron_2 = GridSearchCV(perceptron_2, parameters, cv=kfold)\n",
    "perceptron_2.fit(X_train, y_train)\n",
    "perceptron_prediction_2 = perceptron_2.predict(X_test)"
   ]
  },
  {
   "cell_type": "code",
   "execution_count": 86,
   "metadata": {},
   "outputs": [
    {
     "name": "stdout",
     "output_type": "stream",
     "text": [
      "GridSearchCV를 이용한 최적 매개변수 점수 ==> 0.765650\n",
      "GridSearchCV를 이용한 최적 매개변수 ==> {'alpha': 0.1, 'random_state': 8}\n",
      "GridSearchCV를 이용한 test점수 ==> 0.753731\n",
      "GridSearchCV를 이용한 최고 성능 모델 ==> \n",
      "Perceptron(alpha=0.1, class_weight=None, early_stopping=False, eta0=1.0,\n",
      "      fit_intercept=True, max_iter=None, n_iter=None, n_iter_no_change=5,\n",
      "      n_jobs=None, penalty=None, random_state=8, shuffle=True, tol=None,\n",
      "      validation_fraction=0.1, verbose=0, warm_start=False)\n"
     ]
    }
   ],
   "source": [
    "score = perceptron_2.score(X_test, y_test)\n",
    "score_3 = score\n",
    "print('GridSearchCV를 이용한 최적 매개변수 점수 ==> {:.6f}'.format(perceptron_2.best_score_))\n",
    "print('GridSearchCV를 이용한 최적 매개변수 ==> {}'.format(perceptron_2.best_params_))\n",
    "print('GridSearchCV를 이용한 test점수 ==> {:.6f}'.format(score))\n",
    "print('GridSearchCV를 이용한 최고 성능 모델 ==> \\n{}'.format(perceptron_2.best_estimator_))"
   ]
  },
  {
   "cell_type": "markdown",
   "metadata": {},
   "source": [
    "### 10.4 MultiLayerPerceptron"
   ]
  },
  {
   "cell_type": "code",
   "execution_count": 87,
   "metadata": {},
   "outputs": [
    {
     "name": "stderr",
     "output_type": "stream",
     "text": [
      "c:\\users\\dgkim1108\\anaconda3\\envs\\tfgpu\\lib\\site-packages\\sklearn\\model_selection\\_search.py:841: DeprecationWarning: The default of the `iid` parameter will change from True to False in version 0.22 and will be removed in 0.24. This will change numeric results when test-set sizes are unequal.\n",
      "  DeprecationWarning)\n"
     ]
    }
   ],
   "source": [
    "parameters = {'alpha': 10.0 ** -np.arange(1, 5),\n",
    "              'hidden_layer_sizes': range(1, 10),\n",
    "              'random_state': [0, 1, 2, 3, 4, 5, 6, 7, 8, 9]}\n",
    "mlp_2 = MLPClassifier()\n",
    "mlp_2 = GridSearchCV(mlp_2, parameters, cv=kfold)\n",
    "mlp_2.fit(X_train, y_train)\n",
    "mlp_prediction_2 = mlp_2.predict(X_test)"
   ]
  },
  {
   "cell_type": "code",
   "execution_count": 88,
   "metadata": {},
   "outputs": [
    {
     "name": "stdout",
     "output_type": "stream",
     "text": [
      "GridSearchCV를 이용한 최적 매개변수 점수 ==> 0.810594\n",
      "GridSearchCV를 이용한 최적 매개변수 ==> {'alpha': 0.01, 'hidden_layer_sizes': 6, 'random_state': 7}\n",
      "GridSearchCV를 이용한 test점수 ==> 0.802239\n",
      "GridSearchCV를 이용한 최고 성능 모델 ==> \n",
      "MLPClassifier(activation='relu', alpha=0.01, batch_size='auto', beta_1=0.9,\n",
      "       beta_2=0.999, early_stopping=False, epsilon=1e-08,\n",
      "       hidden_layer_sizes=6, learning_rate='constant',\n",
      "       learning_rate_init=0.001, max_iter=200, momentum=0.9,\n",
      "       n_iter_no_change=10, nesterovs_momentum=True, power_t=0.5,\n",
      "       random_state=7, shuffle=True, solver='adam', tol=0.0001,\n",
      "       validation_fraction=0.1, verbose=False, warm_start=False)\n"
     ]
    }
   ],
   "source": [
    "score = mlp_2.score(X_test, y_test)\n",
    "score_4 = score\n",
    "print('GridSearchCV를 이용한 최적 매개변수 점수 ==> {:.6f}'.format(mlp_2.best_score_))\n",
    "print('GridSearchCV를 이용한 최적 매개변수 ==> {}'.format(mlp_2.best_params_))\n",
    "print('GridSearchCV를 이용한 test점수 ==> {:.6f}'.format(score))\n",
    "print('GridSearchCV를 이용한 최고 성능 모델 ==> \\n{}'.format(mlp_2.best_estimator_))"
   ]
  },
  {
   "cell_type": "markdown",
   "metadata": {},
   "source": [
    "### 10.5 DecisionTree"
   ]
  },
  {
   "cell_type": "code",
   "execution_count": 89,
   "metadata": {},
   "outputs": [],
   "source": [
    "parameters = {'criterion': ['gini', 'entropy']}, {'splitter': ['random', 'best']}\n",
    "decisiontree_2 = DecisionTreeClassifier()\n",
    "decisiontree_2 = GridSearchCV(decisiontree_2, parameters, cv=kfold)\n",
    "decisiontree_2.fit(X_train, y_train)\n",
    "decisiontree_prediction_2 = decisiontree_2.predict(X_test)"
   ]
  },
  {
   "cell_type": "code",
   "execution_count": 90,
   "metadata": {},
   "outputs": [
    {
     "name": "stdout",
     "output_type": "stream",
     "text": [
      "GridSearchCV를 이용한 최적 매개변수 점수 ==> 0.789727\n",
      "GridSearchCV를 이용한 최적 매개변수 ==> {'criterion': 'entropy'}\n",
      "GridSearchCV를 이용한 test점수 ==> 0.805970\n",
      "GridSearchCV를 이용한 최고 성능 모델 ==> \n",
      "DecisionTreeClassifier(class_weight=None, criterion='entropy', max_depth=None,\n",
      "            max_features=None, max_leaf_nodes=None,\n",
      "            min_impurity_decrease=0.0, min_impurity_split=None,\n",
      "            min_samples_leaf=1, min_samples_split=2,\n",
      "            min_weight_fraction_leaf=0.0, presort=False, random_state=None,\n",
      "            splitter='best')\n"
     ]
    }
   ],
   "source": [
    "score = decisiontree_2.score(X_test, y_test)\n",
    "score_5 = score\n",
    "print('GridSearchCV를 이용한 최적 매개변수 점수 ==> {:.6f}'.format(decisiontree_2.best_score_))\n",
    "print('GridSearchCV를 이용한 최적 매개변수 ==> {}'.format(decisiontree_2.best_params_))\n",
    "print('GridSearchCV를 이용한 test점수 ==> {:.6f}'.format(score))\n",
    "print('GridSearchCV를 이용한 최고 성능 모델 ==> \\n{}'.format(decisiontree_2.best_estimator_))"
   ]
  },
  {
   "cell_type": "markdown",
   "metadata": {},
   "source": [
    "### 10.6 GaussianNaiveBayes"
   ]
  },
  {
   "cell_type": "code",
   "execution_count": 91,
   "metadata": {},
   "outputs": [],
   "source": [
    "parameters = {'var_smoothing': 10.0 ** -np.arange(1, 15)}\n",
    "gaussiannb_2 = GaussianNB()\n",
    "gaussiannb_2 = GridSearchCV(gaussiannb_2, parameters, cv=kfold)\n",
    "gaussiannb_2.fit(X_train, y_train)\n",
    "gaussiannb_prediction_2 = gaussiannb_2.predict(X_test)"
   ]
  },
  {
   "cell_type": "code",
   "execution_count": 92,
   "metadata": {},
   "outputs": [
    {
     "name": "stdout",
     "output_type": "stream",
     "text": [
      "GridSearchCV를 이용한 최적 매개변수 점수 ==> 0.783307\n",
      "GridSearchCV를 이용한 최적 매개변수 ==> {'var_smoothing': 0.01}\n",
      "GridSearchCV를 이용한 test점수 ==> 0.783582\n",
      "GridSearchCV를 이용한 최고 성능 모델 ==> \n",
      "GaussianNB(priors=None, var_smoothing=0.01)\n"
     ]
    }
   ],
   "source": [
    "score = gaussiannb_2.score(X_test, y_test)\n",
    "score_6 = score\n",
    "print('GridSearchCV를 이용한 최적 매개변수 점수 ==> {:.6f}'.format(gaussiannb_2.best_score_))\n",
    "print('GridSearchCV를 이용한 최적 매개변수 ==> {}'.format(gaussiannb_2.best_params_))\n",
    "print('GridSearchCV를 이용한 test점수 ==> {:.6f}'.format(score))\n",
    "print('GridSearchCV를 이용한 최고 성능 모델 ==> \\n{}'.format(gaussiannb_2.best_estimator_))"
   ]
  },
  {
   "cell_type": "markdown",
   "metadata": {},
   "source": [
    "### 10.7 StochasticGradientDescent"
   ]
  },
  {
   "cell_type": "code",
   "execution_count": 93,
   "metadata": {},
   "outputs": [],
   "source": [
    "parameters = {'alpha': 10.0 ** -np.arange(1, 5)}\n",
    "sgd_2 = SGDClassifier()\n",
    "sgd_2 = GridSearchCV(sgd_2, parameters)\n",
    "sgd_2.fit(X_train, y_train)\n",
    "sgd_prediction_2 = sgd_2.predict(X_test)"
   ]
  },
  {
   "cell_type": "code",
   "execution_count": 94,
   "metadata": {},
   "outputs": [
    {
     "name": "stdout",
     "output_type": "stream",
     "text": [
      "GridSearchCV를 이용한 최적 매개변수 점수 ==> 0.792937\n",
      "GridSearchCV를 이용한 최적 매개변수 ==> {'alpha': 0.01}\n",
      "GridSearchCV를 이용한 test점수 ==> 0.764925\n",
      "GridSearchCV를 이용한 최고 성능 모델 ==> \n",
      "SGDClassifier(alpha=0.01, average=False, class_weight=None,\n",
      "       early_stopping=False, epsilon=0.1, eta0=0.0, fit_intercept=True,\n",
      "       l1_ratio=0.15, learning_rate='optimal', loss='hinge', max_iter=None,\n",
      "       n_iter=None, n_iter_no_change=5, n_jobs=None, penalty='l2',\n",
      "       power_t=0.5, random_state=None, shuffle=True, tol=None,\n",
      "       validation_fraction=0.1, verbose=0, warm_start=False)\n"
     ]
    }
   ],
   "source": [
    "score = sgd_2.score(X_test, y_test)\n",
    "score_7 = score\n",
    "print('GridSearchCV를 이용한 최적 매개변수 점수 ==> {:.6f}'.format(sgd_2.best_score_))\n",
    "print('GridSearchCV를 이용한 최적 매개변수 ==> {}'.format(sgd_2.best_params_))\n",
    "print('GridSearchCV를 이용한 test점수 ==> {:.6f}'.format(score))\n",
    "print('GridSearchCV를 이용한 최고 성능 모델 ==> \\n{}'.format(sgd_2.best_estimator_))"
   ]
  },
  {
   "cell_type": "markdown",
   "metadata": {},
   "source": [
    "### 10.8 KNearestNeighbors"
   ]
  },
  {
   "cell_type": "code",
   "execution_count": 95,
   "metadata": {},
   "outputs": [],
   "source": [
    "parameters = {'n_neighbors': range(1, 100)}\n",
    "knearestneighbors_2 = KNeighborsClassifier()\n",
    "knearestneighbors_2 = GridSearchCV(knearestneighbors_2, parameters)\n",
    "knearestneighbors_2.fit(X_train, y_train)\n",
    "knearestneighbors_prediction_2 = knearestneighbors_2.predict(X_test)"
   ]
  },
  {
   "cell_type": "code",
   "execution_count": 96,
   "metadata": {},
   "outputs": [
    {
     "name": "stdout",
     "output_type": "stream",
     "text": [
      "GridSearchCV를 이용한 최적 매개변수 점수 ==> 0.817014\n",
      "GridSearchCV를 이용한 최적 매개변수 ==> {'n_neighbors': 11}\n",
      "GridSearchCV를 이용한 test점수 ==> 0.809701\n",
      "GridSearchCV를 이용한 최고 성능 모델 ==> \n",
      "KNeighborsClassifier(algorithm='auto', leaf_size=30, metric='minkowski',\n",
      "           metric_params=None, n_jobs=None, n_neighbors=11, p=2,\n",
      "           weights='uniform')\n"
     ]
    }
   ],
   "source": [
    "score = knearestneighbors_2.score(X_test, y_test)\n",
    "score_8 = score\n",
    "print('GridSearchCV를 이용한 최적 매개변수 점수 ==> {:.6f}'.format(knearestneighbors_2.best_score_))\n",
    "print('GridSearchCV를 이용한 최적 매개변수 ==> {}'.format(knearestneighbors_2.best_params_))\n",
    "print('GridSearchCV를 이용한 test점수 ==> {:.6f}'.format(score))\n",
    "print('GridSearchCV를 이용한 최고 성능 모델 ==> \\n{}'.format(knearestneighbors_2.best_estimator_))"
   ]
  },
  {
   "cell_type": "markdown",
   "metadata": {},
   "source": [
    "### 10.9 RandomForest"
   ]
  },
  {
   "cell_type": "code",
   "execution_count": 97,
   "metadata": {},
   "outputs": [],
   "source": [
    "parameters = {'n_estimators': range(1, 100)}, {'criterion': ['entropy', 'gini']}\n",
    "randomforest_2 = RandomForestClassifier()\n",
    "randomforest_2 = GridSearchCV(randomforest_2, parameters)\n",
    "randomforest_2.fit(X_train, y_train)\n",
    "randomforest_prediction_2 = randomforest_2.predict(X_test)"
   ]
  },
  {
   "cell_type": "code",
   "execution_count": 98,
   "metadata": {},
   "outputs": [
    {
     "name": "stdout",
     "output_type": "stream",
     "text": [
      "GridSearchCV를 이용한 최적 매개변수 점수 ==> 0.825040\n",
      "GridSearchCV를 이용한 최적 매개변수 ==> {'n_estimators': 96}\n",
      "GridSearchCV를 이용한 test점수 ==> 0.813433\n",
      "GridSearchCV를 이용한 최고 성능 모델 ==> \n",
      "RandomForestClassifier(bootstrap=True, class_weight=None, criterion='gini',\n",
      "            max_depth=None, max_features='auto', max_leaf_nodes=None,\n",
      "            min_impurity_decrease=0.0, min_impurity_split=None,\n",
      "            min_samples_leaf=1, min_samples_split=2,\n",
      "            min_weight_fraction_leaf=0.0, n_estimators=96, n_jobs=None,\n",
      "            oob_score=False, random_state=None, verbose=0,\n",
      "            warm_start=False)\n"
     ]
    }
   ],
   "source": [
    "score = randomforest_2.score(X_test, y_test)\n",
    "score_9 = score\n",
    "print('GridSearchCV를 이용한 최적 매개변수 점수 ==> {:.6f}'.format(randomforest_2.best_score_))\n",
    "print('GridSearchCV를 이용한 최적 매개변수 ==> {}'.format(randomforest_2.best_params_))\n",
    "print('GridSearchCV를 이용한 test점수 ==> {:.6f}'.format(score))\n",
    "print('GridSearchCV를 이용한 최고 성능 모델 ==> \\n{}'.format(randomforest_2.best_estimator_))"
   ]
  },
  {
   "cell_type": "markdown",
   "metadata": {},
   "source": [
    "### 10.10 GradientBoosting"
   ]
  },
  {
   "cell_type": "code",
   "execution_count": 99,
   "metadata": {},
   "outputs": [
    {
     "name": "stderr",
     "output_type": "stream",
     "text": [
      "c:\\users\\dgkim1108\\anaconda3\\envs\\tfgpu\\lib\\site-packages\\sklearn\\model_selection\\_search.py:841: DeprecationWarning: The default of the `iid` parameter will change from True to False in version 0.22 and will be removed in 0.24. This will change numeric results when test-set sizes are unequal.\n",
      "  DeprecationWarning)\n"
     ]
    }
   ],
   "source": [
    "parameters = {'n_estimators': range(1, 100)}, {'learning_rate': np.arange(0.1, 10.1, 0.1)}, {'min_samples_split': np.linspace(0.1, 0.5, 12)}, {'min_samples_leaf': np.linspace(0.1, 0.5, 12)}\n",
    "gradientboosting_2 = GradientBoostingClassifier()\n",
    "gradientboosting_2 = GridSearchCV(gradientboosting_2, parameters)\n",
    "gradientboosting_2.fit(X_train, y_train)\n",
    "gradientboosting_prediction_2 = gradientboosting_2.predict(X_test)"
   ]
  },
  {
   "cell_type": "code",
   "execution_count": 100,
   "metadata": {},
   "outputs": [
    {
     "name": "stdout",
     "output_type": "stream",
     "text": [
      "GridSearchCV를 이용한 최적 매개변수 점수 ==> 0.818620\n",
      "GridSearchCV를 이용한 최적 매개변수 ==> {'n_estimators': 35}\n",
      "GridSearchCV를 이용한 test점수 ==> 0.828358\n",
      "GridSearchCV를 이용한 최고 성능 모델 ==> \n",
      "GradientBoostingClassifier(criterion='friedman_mse', init=None,\n",
      "              learning_rate=0.1, loss='deviance', max_depth=3,\n",
      "              max_features=None, max_leaf_nodes=None,\n",
      "              min_impurity_decrease=0.0, min_impurity_split=None,\n",
      "              min_samples_leaf=1, min_samples_split=2,\n",
      "              min_weight_fraction_leaf=0.0, n_estimators=35,\n",
      "              n_iter_no_change=None, presort='auto', random_state=None,\n",
      "              subsample=1.0, tol=0.0001, validation_fraction=0.1,\n",
      "              verbose=0, warm_start=False)\n"
     ]
    }
   ],
   "source": [
    "score = gradientboosting_2.score(X_test, y_test)\n",
    "score_10 = score\n",
    "print('GridSearchCV를 이용한 최적 매개변수 점수 ==> {:.6f}'.format(gradientboosting_2.best_score_))\n",
    "print('GridSearchCV를 이용한 최적 매개변수 ==> {}'.format(gradientboosting_2.best_params_))\n",
    "print('GridSearchCV를 이용한 test점수 ==> {:.6f}'.format(score))\n",
    "print('GridSearchCV를 이용한 최고 성능 모델 ==> \\n{}'.format(gradientboosting_2.best_estimator_))"
   ]
  },
  {
   "cell_type": "markdown",
   "metadata": {},
   "source": [
    "### 10.11 AdaBoost"
   ]
  },
  {
   "cell_type": "code",
   "execution_count": 102,
   "metadata": {},
   "outputs": [
    {
     "name": "stderr",
     "output_type": "stream",
     "text": [
      "c:\\users\\dgkim1108\\anaconda3\\envs\\tfgpu\\lib\\site-packages\\sklearn\\model_selection\\_search.py:841: DeprecationWarning: The default of the `iid` parameter will change from True to False in version 0.22 and will be removed in 0.24. This will change numeric results when test-set sizes are unequal.\n",
      "  DeprecationWarning)\n"
     ]
    }
   ],
   "source": [
    "parameters = {'n_estimators': range(1, 100)}, {'learning_rate': np.arange(0.1, 10.1, 0.1)}\n",
    "adaboost_2 = AdaBoostClassifier()\n",
    "adaboost_2 = GridSearchCV(adaboost_2, parameters)\n",
    "adaboost_2.fit(X_train, y_train)\n",
    "adaboost_prediction_2 = adaboost_2.predict(X_test)"
   ]
  },
  {
   "cell_type": "code",
   "execution_count": 103,
   "metadata": {},
   "outputs": [
    {
     "name": "stdout",
     "output_type": "stream",
     "text": [
      "GridSearchCV를 이용한 최적 매개변수 점수 ==> 0.812199\n",
      "GridSearchCV를 이용한 최적 매개변수 ==> {'n_estimators': 37}\n",
      "GridSearchCV를 이용한 test점수 ==> 0.832090\n",
      "GridSearchCV를 이용한 최고 성능 모델 ==> \n",
      "AdaBoostClassifier(algorithm='SAMME.R', base_estimator=None,\n",
      "          learning_rate=1.0, n_estimators=37, random_state=None)\n"
     ]
    }
   ],
   "source": [
    "score = adaboost_2.score(X_test, y_test)\n",
    "score_11 = score\n",
    "print('GridSearchCV를 이용한 최적 매개변수 점수 ==> {:.6f}'.format(adaboost_2.best_score_))\n",
    "print('GridSearchCV를 이용한 최적 매개변수 ==> {}'.format(adaboost_2.best_params_))\n",
    "print('GridSearchCV를 이용한 test점수 ==> {:.6f}'.format(score))\n",
    "print('GridSearchCV를 이용한 최고 성능 모델 ==> \\n{}'.format(adaboost_2.best_estimator_))"
   ]
  },
  {
   "cell_type": "markdown",
   "metadata": {},
   "source": [
    "### 10.12 ExtraTree"
   ]
  },
  {
   "cell_type": "code",
   "execution_count": 104,
   "metadata": {},
   "outputs": [],
   "source": [
    "parameters = {'n_estimators' : range(1, 100)}\n",
    "extratree_2 = ExtraTreesClassifier()\n",
    "extratree_2 = GridSearchCV(extratree_2, parameters)\n",
    "extratree_2.fit(X_train, y_train)\n",
    "extratree_prediction_2 = extratree_2.predict(X_test)"
   ]
  },
  {
   "cell_type": "code",
   "execution_count": 105,
   "metadata": {},
   "outputs": [
    {
     "name": "stdout",
     "output_type": "stream",
     "text": [
      "GridSearchCV를 이용한 최적 매개변수 점수 ==> 0.810594\n",
      "GridSearchCV를 이용한 최적 매개변수 ==> {'n_estimators': 13}\n",
      "GridSearchCV를 이용한 test점수 ==> 0.813433\n",
      "GridSearchCV를 이용한 최고 성능 모델 ==> \n",
      "ExtraTreesClassifier(bootstrap=False, class_weight=None, criterion='gini',\n",
      "           max_depth=None, max_features='auto', max_leaf_nodes=None,\n",
      "           min_impurity_decrease=0.0, min_impurity_split=None,\n",
      "           min_samples_leaf=1, min_samples_split=2,\n",
      "           min_weight_fraction_leaf=0.0, n_estimators=13, n_jobs=None,\n",
      "           oob_score=False, random_state=None, verbose=0, warm_start=False)\n"
     ]
    }
   ],
   "source": [
    "score = extratree_2.score(X_test, y_test)\n",
    "score_12 = score\n",
    "print('GridSearchCV를 이용한 최적 매개변수 점수 ==> {:.6f}'.format(extratree_2.best_score_))\n",
    "print('GridSearchCV를 이용한 최적 매개변수 ==> {}'.format(extratree_2.best_params_))\n",
    "print('GridSearchCV를 이용한 test점수 ==> {:.6f}'.format(score))\n",
    "print('GridSearchCV를 이용한 최고 성능 모델 ==> \\n{}'.format(extratree_2.best_estimator_))"
   ]
  },
  {
   "cell_type": "markdown",
   "metadata": {},
   "source": [
    "### 10.13 XGBoost"
   ]
  },
  {
   "cell_type": "code",
   "execution_count": 106,
   "metadata": {},
   "outputs": [],
   "source": [
    "parameters = {'n_estimators': [100, 200, 300, 400, 500], \n",
    "              'max_depth': [3, 6, 10],\n",
    "              'subsample': [0.2, 0.4, 0.6, 0.8, 1.0],\n",
    "              'colsample_bytree': [0.5, 0.6, 0.7],\n",
    "              'reg_alpha': [0.01, 0.02, 0.03]}\n",
    "xgb_2 = XGBClassifier()\n",
    "xgb_2 = GridSearchCV(xgb_2, parameters)\n",
    "xgb_2.fit(X_train, y_train)\n",
    "xgb_prediction_2 = xgb_2.predict(X_test)"
   ]
  },
  {
   "cell_type": "code",
   "execution_count": 107,
   "metadata": {},
   "outputs": [
    {
     "name": "stdout",
     "output_type": "stream",
     "text": [
      "GridSearchCV를 이용한 최적 매개변수 점수 ==> 0.828250\n",
      "GridSearchCV를 이용한 최적 매개변수 ==> {'colsample_bytree': 0.6, 'max_depth': 3, 'n_estimators': 300, 'reg_alpha': 0.03, 'subsample': 0.4}\n",
      "GridSearchCV를 이용한 test점수 ==> 0.824627\n",
      "GridSearchCV를 이용한 최고 성능 모델 ==> \n",
      "XGBClassifier(base_score=0.5, booster='gbtree', colsample_bylevel=1,\n",
      "       colsample_bytree=0.6, gamma=0, learning_rate=0.1, max_delta_step=0,\n",
      "       max_depth=3, min_child_weight=1, missing=None, n_estimators=300,\n",
      "       n_jobs=1, nthread=None, objective='binary:logistic', random_state=0,\n",
      "       reg_alpha=0.03, reg_lambda=1, scale_pos_weight=1, seed=None,\n",
      "       silent=True, subsample=0.4)\n"
     ]
    }
   ],
   "source": [
    "score = xgb_2.score(X_test, y_test)\n",
    "score_13 = score\n",
    "print('GridSearchCV를 이용한 최적 매개변수 점수 ==> {:.6f}'.format(xgb_2.best_score_))\n",
    "print('GridSearchCV를 이용한 최적 매개변수 ==> {}'.format(xgb_2.best_params_))\n",
    "print('GridSearchCV를 이용한 test점수 ==> {:.6f}'.format(score))\n",
    "print('GridSearchCV를 이용한 최고 성능 모델 ==> \\n{}'.format(xgb_2.best_estimator_))"
   ]
  },
  {
   "cell_type": "markdown",
   "metadata": {},
   "source": [
    "# 11. 학습 모델 성능 비교 → 파라미터 조정 전후 머신러닝 알고리즘 성능 확인"
   ]
  },
  {
   "cell_type": "code",
   "execution_count": 108,
   "metadata": {},
   "outputs": [
    {
     "data": {
      "text/html": [
       "<div>\n",
       "<style scoped>\n",
       "    .dataframe tbody tr th:only-of-type {\n",
       "        vertical-align: middle;\n",
       "    }\n",
       "\n",
       "    .dataframe tbody tr th {\n",
       "        vertical-align: top;\n",
       "    }\n",
       "\n",
       "    .dataframe thead th {\n",
       "        text-align: right;\n",
       "    }\n",
       "</style>\n",
       "<table border=\"1\" class=\"dataframe\">\n",
       "  <thead>\n",
       "    <tr style=\"text-align: right;\">\n",
       "      <th></th>\n",
       "      <th>Model</th>\n",
       "      <th>Score</th>\n",
       "    </tr>\n",
       "  </thead>\n",
       "  <tbody>\n",
       "    <tr>\n",
       "      <th>10</th>\n",
       "      <td>AdaBoost</td>\n",
       "      <td>0.832090</td>\n",
       "    </tr>\n",
       "    <tr>\n",
       "      <th>9</th>\n",
       "      <td>GradientBoosting</td>\n",
       "      <td>0.828358</td>\n",
       "    </tr>\n",
       "    <tr>\n",
       "      <th>12</th>\n",
       "      <td>XGBoost</td>\n",
       "      <td>0.824627</td>\n",
       "    </tr>\n",
       "    <tr>\n",
       "      <th>8</th>\n",
       "      <td>RandomForest</td>\n",
       "      <td>0.813433</td>\n",
       "    </tr>\n",
       "    <tr>\n",
       "      <th>11</th>\n",
       "      <td>ExtraTree</td>\n",
       "      <td>0.813433</td>\n",
       "    </tr>\n",
       "    <tr>\n",
       "      <th>7</th>\n",
       "      <td>KNearestNeighbors</td>\n",
       "      <td>0.809701</td>\n",
       "    </tr>\n",
       "    <tr>\n",
       "      <th>4</th>\n",
       "      <td>DecisionTree</td>\n",
       "      <td>0.805970</td>\n",
       "    </tr>\n",
       "    <tr>\n",
       "      <th>3</th>\n",
       "      <td>MultiLayerPerceptron</td>\n",
       "      <td>0.802239</td>\n",
       "    </tr>\n",
       "    <tr>\n",
       "      <th>0</th>\n",
       "      <td>LogisticRegression</td>\n",
       "      <td>0.798507</td>\n",
       "    </tr>\n",
       "    <tr>\n",
       "      <th>1</th>\n",
       "      <td>SupportVectorMachine</td>\n",
       "      <td>0.787313</td>\n",
       "    </tr>\n",
       "    <tr>\n",
       "      <th>5</th>\n",
       "      <td>GaussianNB</td>\n",
       "      <td>0.783582</td>\n",
       "    </tr>\n",
       "    <tr>\n",
       "      <th>6</th>\n",
       "      <td>StochasticGradientDescent</td>\n",
       "      <td>0.764925</td>\n",
       "    </tr>\n",
       "    <tr>\n",
       "      <th>2</th>\n",
       "      <td>Perceptron</td>\n",
       "      <td>0.753731</td>\n",
       "    </tr>\n",
       "  </tbody>\n",
       "</table>\n",
       "</div>"
      ],
      "text/plain": [
       "                        Model     Score\n",
       "10                   AdaBoost  0.832090\n",
       "9            GradientBoosting  0.828358\n",
       "12                    XGBoost  0.824627\n",
       "8                RandomForest  0.813433\n",
       "11                  ExtraTree  0.813433\n",
       "7           KNearestNeighbors  0.809701\n",
       "4                DecisionTree  0.805970\n",
       "3        MultiLayerPerceptron  0.802239\n",
       "0          LogisticRegression  0.798507\n",
       "1        SupportVectorMachine  0.787313\n",
       "5                  GaussianNB  0.783582\n",
       "6   StochasticGradientDescent  0.764925\n",
       "2                  Perceptron  0.753731"
      ]
     },
     "execution_count": 108,
     "metadata": {},
     "output_type": "execute_result"
    }
   ],
   "source": [
    "models = pd.DataFrame({\n",
    "    'Model' : [\"LogisticRegression\", \"SupportVectorMachine\", \"Perceptron\", \"MultiLayerPerceptron\", \"DecisionTree\", \"GaussianNB\", \"StochasticGradientDescent\",\n",
    "              \"KNearestNeighbors\", \"RandomForest\", \"GradientBoosting\", \"AdaBoost\", \"ExtraTree\", \"XGBoost\"],\n",
    "    'Score' : [score_1, score_2, score_3, score_4, score_5, score_6, score_7,\n",
    "               score_8, score_9, score_10, score_11, score_12, score_13]\n",
    "})\n",
    "models.sort_values(by='Score', ascending=False)"
   ]
  },
  {
   "cell_type": "markdown",
   "metadata": {},
   "source": [
    "# 12. 학습 모델 시각화 → 텐서보드 이용"
   ]
  },
  {
   "cell_type": "code",
   "execution_count": 128,
   "metadata": {},
   "outputs": [],
   "source": [
    "seed = 5\n",
    "input_size = X_train.shape[1]\n",
    "learning_rate = 0.01\n",
    "epochs = 1000"
   ]
  },
  {
   "cell_type": "code",
   "execution_count": 129,
   "metadata": {},
   "outputs": [],
   "source": [
    "graph = tf.Graph()\n",
    "with graph.as_default():\n",
    "    tf.set_random_seed(seed)\n",
    "    np.random.seed(seed)\n",
    "\n",
    "    X_input = tf.placeholder(dtype=tf.float32, shape=[None, input_size], name='X_input')\n",
    "    y_input = tf.placeholder(dtype=tf.float32, shape=[None, 1], name='y_input')\n",
    "    \n",
    "    W1 = tf.Variable(tf.random_normal(shape=[input_size, 1], seed=seed), name='W1')\n",
    "    b1 = tf.Variable(tf.random_normal(shape=[1], seed=seed), name='b1')\n",
    "    sigm = tf.nn.sigmoid(tf.add(tf.matmul(X_input, W1), b1), name='pred')\n",
    "    \n",
    "    loss = tf.reduce_mean(tf.nn.sigmoid_cross_entropy_with_logits(labels=y_input,\n",
    "                                                                  logits=sigm, name='loss'))\n",
    "    train_steps = tf.train.AdamOptimizer(learning_rate).minimize(loss)\n",
    "\n",
    "    pred = tf.cast(tf.greater_equal(sigm, 0.5), tf.float32, name='pred')\n",
    "    acc = tf.reduce_mean(tf.cast(tf.equal(pred, y_input), tf.float32), name='acc')\n",
    "    \n",
    "    init_var = tf.global_variables_initializer()"
   ]
  },
  {
   "cell_type": "code",
   "execution_count": 130,
   "metadata": {},
   "outputs": [
    {
     "data": {
      "text/plain": [
       "Index(['PassengerId', 'Pclass', 'Sex', 'SibSp', 'Parch', 'Embarked', 'NameA',\n",
       "       'AgeA', 'CabinA', 'FareA'],\n",
       "      dtype='object')"
      ]
     },
     "execution_count": 130,
     "metadata": {},
     "output_type": "execute_result"
    }
   ],
   "source": [
    "pd_test.columns"
   ]
  },
  {
   "cell_type": "code",
   "execution_count": 131,
   "metadata": {},
   "outputs": [],
   "source": [
    "feature_test = pd_test[['Pclass', 'Sex', 'SibSp', 'Parch', 'Embarked', 'NameA', 'AgeA', 'CabinA', 'FareA']]"
   ]
  },
  {
   "cell_type": "code",
   "execution_count": 132,
   "metadata": {},
   "outputs": [],
   "source": [
    "train_dict = {X_input: X_train, y_input: y_train}\n",
    "validation_dict = {X_input: X_test, y_input: y_test}\n",
    "test_dict = {X_input: feature_test}"
   ]
  },
  {
   "cell_type": "code",
   "execution_count": 133,
   "metadata": {},
   "outputs": [],
   "source": [
    "sess = tf.Session(graph=graph)\n",
    "sess.run(init_var)"
   ]
  },
  {
   "cell_type": "code",
   "execution_count": 135,
   "metadata": {},
   "outputs": [
    {
     "name": "stdout",
     "output_type": "stream",
     "text": [
      "step 0: loss 0.67092, train_acc 72.07%, test_acc 71.64%\n",
      "step 100: loss 0.65717, train_acc 73.68%, test_acc 73.68%\n",
      "step 200: loss 0.64418, train_acc 76.57%, test_acc 76.57%\n",
      "step 300: loss 0.63811, train_acc 80.42%, test_acc 80.42%\n",
      "step 400: loss 0.63562, train_acc 81.06%, test_acc 81.06%\n",
      "step 500: loss 0.63409, train_acc 81.06%, test_acc 81.06%\n",
      "step 600: loss 0.63297, train_acc 80.90%, test_acc 80.90%\n",
      "step 700: loss 0.63208, train_acc 81.22%, test_acc 81.22%\n",
      "step 800: loss 0.63135, train_acc 80.90%, test_acc 80.90%\n",
      "step 900: loss 0.63073, train_acc 80.90%, test_acc 80.90%\n",
      "step 1000: loss 0.63019, train_acc 80.90%, test_acc 80.90%\n"
     ]
    }
   ],
   "source": [
    "cur_loss = sess.run(loss, feed_dict=train_dict)\n",
    "train_acc = sess.run(acc, feed_dict=train_dict)\n",
    "test_acc = sess.run(acc, feed_dict=validation_dict)\n",
    "print('step 0: loss {0:.5f}, train_acc {1:.2f}%, test_acc {2:.2f}%'.format(cur_loss, 100*train_acc, 100*test_acc))\n",
    "for step in range(1, epochs+1):\n",
    "    writer = tf.summary.FileWriter('tensorflow_1.5/logs', sess.graph)\n",
    "    sess.run(train_steps, feed_dict=train_dict)\n",
    "    cur_loss = sess.run(loss, feed_dict=train_dict)\n",
    "    train_acc = sess.run(acc, feed_dict=train_dict)\n",
    "    test_acc = sess.run(acc, feed_dict=train_dict)\n",
    "    if step%100 != 0: # print result every 100 steps\n",
    "        continue\n",
    "    print('step {3}: loss {0:.5f}, train_acc {1:.2f}%, test_acc {2:.2f}%'.format(cur_loss, 100*train_acc, 100*test_acc, step))"
   ]
  },
  {
   "cell_type": "markdown",
   "metadata": {},
   "source": [
    "# 13. 학습 모델 테스트"
   ]
  },
  {
   "cell_type": "code",
   "execution_count": 136,
   "metadata": {},
   "outputs": [
    {
     "name": "stdout",
     "output_type": "stream",
     "text": [
      "(418, 2)\n"
     ]
    },
    {
     "data": {
      "text/html": [
       "<div>\n",
       "<style scoped>\n",
       "    .dataframe tbody tr th:only-of-type {\n",
       "        vertical-align: middle;\n",
       "    }\n",
       "\n",
       "    .dataframe tbody tr th {\n",
       "        vertical-align: top;\n",
       "    }\n",
       "\n",
       "    .dataframe thead th {\n",
       "        text-align: right;\n",
       "    }\n",
       "</style>\n",
       "<table border=\"1\" class=\"dataframe\">\n",
       "  <thead>\n",
       "    <tr style=\"text-align: right;\">\n",
       "      <th></th>\n",
       "      <th>PassengerId</th>\n",
       "      <th>Survived</th>\n",
       "    </tr>\n",
       "  </thead>\n",
       "  <tbody>\n",
       "    <tr>\n",
       "      <th>0</th>\n",
       "      <td>892</td>\n",
       "      <td>0</td>\n",
       "    </tr>\n",
       "    <tr>\n",
       "      <th>1</th>\n",
       "      <td>893</td>\n",
       "      <td>1</td>\n",
       "    </tr>\n",
       "    <tr>\n",
       "      <th>2</th>\n",
       "      <td>894</td>\n",
       "      <td>0</td>\n",
       "    </tr>\n",
       "    <tr>\n",
       "      <th>3</th>\n",
       "      <td>895</td>\n",
       "      <td>0</td>\n",
       "    </tr>\n",
       "    <tr>\n",
       "      <th>4</th>\n",
       "      <td>896</td>\n",
       "      <td>1</td>\n",
       "    </tr>\n",
       "  </tbody>\n",
       "</table>\n",
       "</div>"
      ],
      "text/plain": [
       "   PassengerId  Survived\n",
       "0          892         0\n",
       "1          893         1\n",
       "2          894         0\n",
       "3          895         0\n",
       "4          896         1"
      ]
     },
     "execution_count": 136,
     "metadata": {},
     "output_type": "execute_result"
    }
   ],
   "source": [
    "adaboost_result = adaboost_2.predict(feature_test)\n",
    "submission = pd.DataFrame({'PassengerId': pd_test['PassengerId'], 'Survived': adaboost_result})\n",
    "submission[\"Survived\"] = adaboost_result\n",
    "print(submission.shape)\n",
    "submission.head()"
   ]
  },
  {
   "cell_type": "code",
   "execution_count": 137,
   "metadata": {},
   "outputs": [],
   "source": [
    "submission.to_csv(\"AdaBoost_Submission_20190418.csv\", index=False)"
   ]
  },
  {
   "cell_type": "code",
   "execution_count": null,
   "metadata": {},
   "outputs": [],
   "source": []
  },
  {
   "cell_type": "code",
   "execution_count": null,
   "metadata": {},
   "outputs": [],
   "source": []
  },
  {
   "cell_type": "code",
   "execution_count": null,
   "metadata": {},
   "outputs": [],
   "source": []
  },
  {
   "cell_type": "code",
   "execution_count": null,
   "metadata": {},
   "outputs": [],
   "source": []
  },
  {
   "cell_type": "code",
   "execution_count": null,
   "metadata": {},
   "outputs": [],
   "source": []
  },
  {
   "cell_type": "code",
   "execution_count": null,
   "metadata": {},
   "outputs": [],
   "source": []
  }
 ],
 "metadata": {
  "kernelspec": {
   "display_name": "Python 3",
   "language": "python",
   "name": "python3"
  },
  "language_info": {
   "codemirror_mode": {
    "name": "ipython",
    "version": 3
   },
   "file_extension": ".py",
   "mimetype": "text/x-python",
   "name": "python",
   "nbconvert_exporter": "python",
   "pygments_lexer": "ipython3",
   "version": "3.6.8"
  }
 },
 "nbformat": 4,
 "nbformat_minor": 2
}
